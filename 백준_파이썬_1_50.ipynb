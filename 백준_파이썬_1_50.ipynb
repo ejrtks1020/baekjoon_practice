{
  "nbformat": 4,
  "nbformat_minor": 0,
  "metadata": {
    "colab": {
      "name": "백준 파이썬 1 - 50",
      "provenance": [],
      "collapsed_sections": [],
      "authorship_tag": "ABX9TyM3Kg+LG2hBqNonVVnwIgq2",
      "include_colab_link": true
    },
    "kernelspec": {
      "name": "python3",
      "display_name": "Python 3"
    },
    "language_info": {
      "name": "python"
    }
  },
  "cells": [
    {
      "cell_type": "markdown",
      "metadata": {
        "id": "view-in-github",
        "colab_type": "text"
      },
      "source": [
        "<a href=\"https://colab.research.google.com/github/ejrtks1020/baekjoon_practice/blob/main/%EB%B0%B1%EC%A4%80_%ED%8C%8C%EC%9D%B4%EC%8D%AC_1_50.ipynb\" target=\"_parent\"><img src=\"https://colab.research.google.com/assets/colab-badge.svg\" alt=\"Open In Colab\"/></a>"
      ]
    },
    {
      "cell_type": "code",
      "metadata": {
        "colab": {
          "base_uri": "https://localhost:8080/"
        },
        "id": "RWq58xxHl-V3",
        "outputId": "350a96ab-db76-46db-f4c2-04a4c3d0367e"
      },
      "source": [
        "A, B, C = map(int, input().split())"
      ],
      "execution_count": null,
      "outputs": [
        {
          "name": "stdout",
          "output_type": "stream",
          "text": [
            "5 8 4\n"
          ]
        }
      ]
    },
    {
      "cell_type": "code",
      "metadata": {
        "colab": {
          "base_uri": "https://localhost:8080/"
        },
        "id": "4J-hnrqAokbB",
        "outputId": "10503ace-e958-455c-8934-c50a559df268"
      },
      "source": [
        "print((A+B)%C)\n",
        "print(((A%C) + (B%C))%C)\n",
        "print((A*B)%C)\n",
        "print(((A%C) * (B%C))%C)"
      ],
      "execution_count": null,
      "outputs": [
        {
          "output_type": "stream",
          "name": "stdout",
          "text": [
            "1\n",
            "1\n",
            "0\n",
            "0\n"
          ]
        }
      ]
    },
    {
      "cell_type": "code",
      "metadata": {
        "colab": {
          "base_uri": "https://localhost:8080/"
        },
        "id": "Gk2RLAXVo7JH",
        "outputId": "e3ce1bba-e453-492e-ddee-267d011d55f8"
      },
      "source": [
        "A = int(input())\n",
        "B = int(input())\n",
        "print(A+B)"
      ],
      "execution_count": null,
      "outputs": [
        {
          "name": "stdout",
          "output_type": "stream",
          "text": [
            "4\n",
            "5\n"
          ]
        },
        {
          "output_type": "execute_result",
          "data": {
            "text/plain": [
              "9"
            ]
          },
          "metadata": {},
          "execution_count": 10
        }
      ]
    },
    {
      "cell_type": "code",
      "metadata": {
        "id": "eNHbINEIqLnX",
        "colab": {
          "base_uri": "https://localhost:8080/"
        },
        "outputId": "e8a02446-9f90-46f2-a16c-b9bdeea70e2c"
      },
      "source": [
        "A = input()\n",
        "B = input()\n",
        "C = int(A) * int(B[-1])\n",
        "D = (int(A) * int(B[1]))\n",
        "E = (int(A) * int(B[0]))\n",
        "F = C + D * 10 + E * 100\n",
        "print(C)\n",
        "print(D)\n",
        "print(E)\n",
        "print(F)"
      ],
      "execution_count": null,
      "outputs": [
        {
          "output_type": "stream",
          "name": "stdout",
          "text": [
            "472\n",
            "385\n",
            "2360\n",
            "3776\n",
            "1416\n",
            "181720\n"
          ]
        }
      ]
    },
    {
      "cell_type": "code",
      "metadata": {
        "colab": {
          "base_uri": "https://localhost:8080/"
        },
        "id": "zm7orJ-2NpCT",
        "outputId": "4da1a151-afc6-49e8-800d-b570ccccf27b"
      },
      "source": [
        "R1, S = map(int, input().split())\n",
        "R2 = 2 * S - R1\n",
        "print(R2)"
      ],
      "execution_count": null,
      "outputs": [
        {
          "output_type": "stream",
          "name": "stdout",
          "text": [
            "11 15\n",
            "19\n"
          ]
        }
      ]
    },
    {
      "cell_type": "code",
      "metadata": {
        "colab": {
          "base_uri": "https://localhost:8080/"
        },
        "id": "5Yn1L7T7OdiD",
        "outputId": "2ced905c-d90a-4beb-ab48-3a9b94878a2f"
      },
      "source": [
        "M, N = map(int, input().split())\n",
        "min_sep = M * N - 1\n",
        "print(min_sep)"
      ],
      "execution_count": null,
      "outputs": [
        {
          "output_type": "stream",
          "name": "stdout",
          "text": [
            "3 2\n",
            "5\n"
          ]
        }
      ]
    },
    {
      "cell_type": "code",
      "metadata": {
        "colab": {
          "base_uri": "https://localhost:8080/"
        },
        "id": "xzTWRrQrQ6Vi",
        "outputId": "ebf27a49-2ec7-4707-b25e-7e2cb267803e"
      },
      "source": [
        "t_case = int(input())\n",
        "a = []\n",
        "b = []\n",
        "c = []\n",
        "for i in range(t_case):\n",
        "  A, B= map(int, input().split())\n",
        "  C = A + B\n",
        "  a.append(A)\n",
        "  b.append(B)\n",
        "  c.append(C)\n",
        "\n",
        "for i in range(len(c)):\n",
        "  print(f'Case #{i+1}: {a[i]} + {b[i]} = {c[i]}')\n",
        "  \n"
      ],
      "execution_count": null,
      "outputs": [
        {
          "output_type": "stream",
          "name": "stdout",
          "text": [
            "4\n",
            "1 1\n",
            "2 2\n",
            "3 3\n",
            "4 4\n",
            "Case #1: 1 + 1 = 2\n",
            "Case #2: 2 + 2 = 4\n",
            "Case #3: 3 + 3 = 6\n",
            "Case #4: 4 + 4 = 8\n"
          ]
        }
      ]
    },
    {
      "cell_type": "code",
      "metadata": {
        "id": "URhS56ZuTXYd",
        "colab": {
          "base_uri": "https://localhost:8080/"
        },
        "outputId": "a909ac58-274c-4ba5-b06b-7b6330fa30c5"
      },
      "source": [
        "import datetime\n",
        "\n",
        "print(datetime.datetime.now())"
      ],
      "execution_count": null,
      "outputs": [
        {
          "output_type": "stream",
          "name": "stdout",
          "text": [
            "2021-09-23 04:17:52.005480\n"
          ]
        }
      ]
    },
    {
      "cell_type": "code",
      "metadata": {
        "colab": {
          "base_uri": "https://localhost:8080/"
        },
        "id": "trKV3a8X3Cpo",
        "outputId": "de6c14ef-2d64-456b-d789-186fff0812aa"
      },
      "source": [
        "h , m = map(int, input().split())\n",
        "time = int(input())\n",
        "\n",
        "m = m + time\n",
        "\n",
        "if m >= 60:\n",
        "  h += int(m / 60)\n",
        "  m = m % 60\n",
        "  if h >= 24:\n",
        "    h -= 24\n",
        "\n",
        "print(h, m)\n"
      ],
      "execution_count": null,
      "outputs": [
        {
          "output_type": "stream",
          "name": "stdout",
          "text": [
            "23 48\n",
            "25\n",
            "0 13\n"
          ]
        }
      ]
    },
    {
      "cell_type": "code",
      "metadata": {
        "colab": {
          "base_uri": "https://localhost:8080/"
        },
        "id": "Wyy6zPv57Exa",
        "outputId": "013b49fc-fe1b-4a57-fe44-028f7d85128b"
      },
      "source": [
        "\n",
        "h , m , s= map(int, input().split())\n",
        "time = int(input())\n",
        "\n",
        "h += int(time // 3600)\n",
        "m += ((time%3600) // 60)\n",
        "s += ((time%3600) % 60) \n",
        "\n",
        "if s >= 60:\n",
        "  m += (s // 60)\n",
        "  s = s % 60\n",
        "if m >= 60:\n",
        "  h += (m // 60)\n",
        "  m = m % 60\n",
        "if h >= 24:\n",
        "  h = h % 24\n",
        "\n",
        "print(h, m, s)"
      ],
      "execution_count": null,
      "outputs": [
        {
          "output_type": "stream",
          "name": "stdout",
          "text": [
            "0 0 0\n",
            "172801\n",
            "0 0 1\n"
          ]
        }
      ]
    },
    {
      "cell_type": "code",
      "metadata": {
        "colab": {
          "base_uri": "https://localhost:8080/"
        },
        "id": "d1XPsNAN7Eow",
        "outputId": "52aa5766-c189-4b95-80ab-e14d1bd2a8bb"
      },
      "source": [
        "num_music, avg = map(int, input().split())\n",
        "melody = (avg - 1) * num_music + 1\n",
        "print(melody)"
      ],
      "execution_count": null,
      "outputs": [
        {
          "output_type": "stream",
          "name": "stdout",
          "text": [
            "38 24\n",
            "875\n"
          ]
        }
      ]
    },
    {
      "cell_type": "code",
      "metadata": {
        "id": "h6LOyrj80xNq"
      },
      "source": [
        ""
      ],
      "execution_count": null,
      "outputs": []
    },
    {
      "cell_type": "code",
      "metadata": {
        "colab": {
          "base_uri": "https://localhost:8080/"
        },
        "id": "7yXEg5O_Wi-e",
        "outputId": "bb54366c-dd05-4718-adaa-ac046c617bf0"
      },
      "source": [
        "num_test = int(input())\n",
        "s = []\n",
        "for i in range(num_test):\n",
        "  total = 0\n",
        "  x = input().split()\n",
        "  x[0] = float(x[0])\n",
        "  for j in range(1, len(x)):\n",
        "    if x[j] == '@':\n",
        "      x[j] = x[j-1] * 3\n",
        "    elif x[j] == '%':\n",
        "      x[j] = x[j-1] + 5\n",
        "    elif x[j] == '#':\n",
        "      x[j] = x[j-1] - 7\n",
        "\n",
        "  s.append(x[j])\n",
        "\n",
        "for i in range(len(s)):\n",
        "  print('{:.2f}'.format(s[i]))\n",
        "\n"
      ],
      "execution_count": null,
      "outputs": [
        {
          "output_type": "stream",
          "name": "stdout",
          "text": [
            "3\n",
            "3 @ %\n",
            "10.4 # % @\n",
            "8 #\n",
            "14.00\n",
            "25.20\n",
            "1.00\n"
          ]
        }
      ]
    },
    {
      "cell_type": "code",
      "metadata": {
        "colab": {
          "base_uri": "https://localhost:8080/"
        },
        "id": "7DAVpa7QYmzH",
        "outputId": "867ea7a2-acc4-4db8-a075-a18e3a1ee9c7"
      },
      "source": [
        "num_test = int(input())\n",
        "r = []\n",
        "s = []\n",
        "for i in range(num_test):\n",
        "  r2, s2 = input().split()\n",
        "  r2 = int(r2)\n",
        "  r.append(r2)\n",
        "  s.append(s2)\n",
        "\n",
        "for i in range(num_test):\n",
        "  temp = ''\n",
        "  for j in range(len(s[i])):\n",
        "    temp += s[i][j] * r[i]\n",
        "  print(temp)\n"
      ],
      "execution_count": null,
      "outputs": [
        {
          "output_type": "stream",
          "name": "stdout",
          "text": [
            "2\n",
            "3 ABC\n",
            "5 /HTP\n",
            "AAABBBCCC\n",
            "/////HHHHHTTTTTPPPPP\n"
          ]
        }
      ]
    },
    {
      "cell_type": "code",
      "metadata": {
        "colab": {
          "base_uri": "https://localhost:8080/"
        },
        "id": "kPEMOzPSftRI",
        "outputId": "c7e2edb4-da07-4697-a3ee-2b5bc2685ce8"
      },
      "source": [
        "x =''\n",
        "print(x + '123' + 'asd')"
      ],
      "execution_count": null,
      "outputs": [
        {
          "output_type": "stream",
          "name": "stdout",
          "text": [
            "123asd\n"
          ]
        }
      ]
    },
    {
      "cell_type": "code",
      "metadata": {
        "colab": {
          "base_uri": "https://localhost:8080/"
        },
        "id": "pDX9KkcdjKxT",
        "outputId": "7c97cbf6-9522-47c5-a5c3-cf5c736e0403"
      },
      "source": [
        "A = input()\n",
        "s = input()\n",
        "B = input()\n",
        "\n",
        "if s == '*':\n",
        "  print('1' + '0' * (len(A)-1 + len(B)-1)) \n",
        "else:\n",
        "  if len(A) > len(B):\n",
        "    A = list(A)\n",
        "    A[-len(B)] = '1'\n",
        "    print(''.join(A))\n",
        "  elif len(A) < len(B):\n",
        "    B = list(B)\n",
        "    B[-len(A)] = '1'\n",
        "    print(''.join(B))\n",
        "  elif len(A) == len(B):\n",
        "    A = list(A)\n",
        "    A[0] = '2'\n",
        "    print(''.join(A))\n",
        "\n",
        "  "
      ],
      "execution_count": null,
      "outputs": [
        {
          "output_type": "stream",
          "name": "stdout",
          "text": [
            "100\n",
            "*\n",
            "10000\n",
            "1000000\n"
          ]
        }
      ]
    },
    {
      "cell_type": "code",
      "metadata": {
        "colab": {
          "base_uri": "https://localhost:8080/"
        },
        "id": "iPpqxj2wpQ-a",
        "outputId": "be12a3b2-1b55-409e-cc27-d63a5f3789c3"
      },
      "source": [
        "score = int(input())\n",
        "\n",
        "if score >= 90 and score <= 100:\n",
        "  print('A')\n",
        "elif score >= 80 and score <= 89:\n",
        "  print('B')\n",
        "elif score >= 70 and score <= 79:\n",
        "  print('C')\n",
        "elif score >= 60 and score <= 69:  \n",
        "  print('D')\n",
        "else:\n",
        "  print('F')\n"
      ],
      "execution_count": null,
      "outputs": [
        {
          "output_type": "stream",
          "name": "stdout",
          "text": [
            "100\n",
            "A\n"
          ]
        }
      ]
    },
    {
      "cell_type": "code",
      "metadata": {
        "colab": {
          "base_uri": "https://localhost:8080/"
        },
        "id": "TMieZgxK1Lr0",
        "outputId": "7f1da0e8-6ae0-4414-d03b-e1052d74570c"
      },
      "source": [
        "A, B, C = map(int, input().split())\n",
        "\n",
        "if (A >= B and B >= C) or (A <= B and B <= C):\n",
        "  print(B)\n",
        "elif (B >= A and A >= C) or (B <= A and A <= C):\n",
        "  print(A)\n",
        "elif (B >= C and C >= A) or (B <= C and C <= A):\n",
        "  print(C)\n"
      ],
      "execution_count": null,
      "outputs": [
        {
          "output_type": "stream",
          "name": "stdout",
          "text": [
            "10 10 10\n",
            "10\n"
          ]
        }
      ]
    },
    {
      "cell_type": "code",
      "metadata": {
        "colab": {
          "base_uri": "https://localhost:8080/"
        },
        "id": "ZaWjL3P6qzGv",
        "outputId": "200731c2-9aae-46b0-f18e-656f1b853161"
      },
      "source": [
        "n = int(input())\n",
        "\n",
        "def factorization(n):\n",
        "  x = 2\n",
        "  while x <= n:\n",
        "    if n % x == 0:\n",
        "      print(x)\n",
        "      n = n / x\n",
        "    else:\n",
        "      x += 1\n",
        "\n",
        "factorization(n)\n"
      ],
      "execution_count": null,
      "outputs": [
        {
          "output_type": "stream",
          "name": "stdout",
          "text": [
            "9\n",
            "3\n",
            "3\n"
          ]
        }
      ]
    },
    {
      "cell_type": "code",
      "metadata": {
        "colab": {
          "base_uri": "https://localhost:8080/"
        },
        "id": "JO2o8l1u6UIh",
        "outputId": "f983eca8-2d79-4ced-960f-7d95e526428f"
      },
      "source": [
        "n = int(input())\n",
        "def f(x):\n",
        "  k = 1\n",
        "  num = 0\n",
        "  if x == 1 or x==2:\n",
        "    return 1\n",
        "    \n",
        "  while x != 0:\n",
        "    if x - k > k or x - k == 0:\n",
        "      x = x - k\n",
        "      num = num + 1\n",
        "    \n",
        "    k = k + 1\n",
        "\n",
        "  return num\n",
        "\n",
        "print(f(n))"
      ],
      "execution_count": null,
      "outputs": [
        {
          "name": "stdout",
          "output_type": "stream",
          "text": [
            "200\n"
          ]
        },
        {
          "output_type": "execute_result",
          "data": {
            "text/plain": [
              "19"
            ]
          },
          "metadata": {},
          "execution_count": 24
        }
      ]
    },
    {
      "cell_type": "code",
      "metadata": {
        "colab": {
          "base_uri": "https://localhost:8080/"
        },
        "id": "ueIa1oUn_7bq",
        "outputId": "edc880dc-e48b-43a0-c8cf-53b6494643fc"
      },
      "source": [
        "a = []\n",
        "sum = 0\n",
        "for i in range(5):\n",
        "  a.append(int(input()))\n",
        "  if a[i] < 40:\n",
        "    a[i] = 40\n",
        "  sum += a[i]\n",
        "\n",
        "print(sum//5)"
      ],
      "execution_count": null,
      "outputs": [
        {
          "output_type": "stream",
          "name": "stdout",
          "text": [
            "10\n",
            "65\n",
            "100\n",
            "30\n",
            "95\n",
            "68\n"
          ]
        }
      ]
    },
    {
      "cell_type": "code",
      "metadata": {
        "colab": {
          "base_uri": "https://localhost:8080/"
        },
        "id": "zPTH6V27AIYE",
        "outputId": "800d2ae3-2aec-4918-d045-573910969598"
      },
      "source": [
        "n = int(input())\n",
        "\n",
        "x = []\n",
        "\n",
        "for i in range(n):\n",
        "  a ,b = map(int, input().split())\n",
        "  temp_a = a\n",
        "  temp_b = b\n",
        "  num = 1\n",
        "  \n",
        "  while(True):\n",
        "    if temp_a >= b:\n",
        "      if temp_a % b == 0:\n",
        "        x.append(temp_a)\n",
        "        break\n",
        "      num += 1\n",
        "      temp_a = a * num\n",
        "      \n",
        "    elif a < temp_b:\n",
        "      if temp_b % a == 0:\n",
        "        x.append(temp_b)\n",
        "        break\n",
        "      num += 1\n",
        "      temp_b = b * num4\n",
        "\n",
        "for i in range(n):\n",
        "  print(x[i])\n",
        "\n",
        "\n"
      ],
      "execution_count": null,
      "outputs": [
        {
          "output_type": "stream",
          "name": "stdout",
          "text": [
            "1\n",
            "44999 45000\n",
            "2024955000\n"
          ]
        }
      ]
    },
    {
      "cell_type": "code",
      "metadata": {
        "colab": {
          "base_uri": "https://localhost:8080/"
        },
        "id": "FFPzC3qzJFfF",
        "outputId": "c08db609-48dd-46c5-8f45-685427b5d612"
      },
      "source": [
        "a, b, c = map(int , input().split())\n",
        "\n",
        "if a == b:\n",
        "  if b == c:\n",
        "    print(10000 + a * 1000)\n",
        "  else:\n",
        "    print(1000 + a * 100)\n",
        "\n",
        "elif b == c:\n",
        "  if a == c:\n",
        "    print(10000 + a * 1000)\n",
        "  else:\n",
        "    print(1000 + b * 100)\n",
        "\n",
        "elif a == c:\n",
        "  if b == c:\n",
        "    print(10000 + a * 1000)\n",
        "  else:\n",
        "    print(1000 + c * 100)\n",
        "\n",
        "else:\n",
        "  print(max(a,b,c) * 100)\n",
        "  "
      ],
      "execution_count": null,
      "outputs": [
        {
          "output_type": "stream",
          "name": "stdout",
          "text": [
            "6 2 5\n",
            "600\n"
          ]
        }
      ]
    },
    {
      "cell_type": "code",
      "metadata": {
        "colab": {
          "base_uri": "https://localhost:8080/"
        },
        "id": "Frmuw7RsO3Le",
        "outputId": "d6dfeece-6ea6-4a33-9142-37a4aea61a9a"
      },
      "source": [
        "a=sorted(list(map(int,input().split())))\n",
        "print(a)"
      ],
      "execution_count": null,
      "outputs": [
        {
          "output_type": "stream",
          "name": "stdout",
          "text": [
            "9 7 5\n",
            "[5, 7, 9]\n"
          ]
        }
      ]
    },
    {
      "cell_type": "code",
      "metadata": {
        "colab": {
          "base_uri": "https://localhost:8080/"
        },
        "id": "-7UipBTUQCvl",
        "outputId": "b5513302-ff0f-490d-fb24-7892a203636c"
      },
      "source": [
        "set([1, 2,2])"
      ],
      "execution_count": null,
      "outputs": [
        {
          "output_type": "execute_result",
          "data": {
            "text/plain": [
              "{1, 2}"
            ]
          },
          "metadata": {},
          "execution_count": 25
        }
      ]
    },
    {
      "cell_type": "code",
      "metadata": {
        "colab": {
          "base_uri": "https://localhost:8080/"
        },
        "id": "7GCJywXOSWLB",
        "outputId": "a14e0181-0a2c-40eb-e97e-11b47e8b6762"
      },
      "source": [
        "l = []\n",
        "while True:\n",
        "  a ,b = map(int, input().split())\n",
        "  if a == 0 and b == 0:\n",
        "    break\n",
        "  elif a > b:\n",
        "    l.append('Yes')\n",
        "  elif a <= b:\n",
        "    l.append('No')\n",
        "\n",
        "for i in l:\n",
        "  print(i)\n"
      ],
      "execution_count": null,
      "outputs": [
        {
          "output_type": "stream",
          "name": "stdout",
          "text": [
            "1 19\n",
            "4 4\n",
            "23 14\n",
            "0 0\n",
            "No\n",
            "No\n",
            "Yes\n"
          ]
        }
      ]
    },
    {
      "cell_type": "code",
      "metadata": {
        "colab": {
          "base_uri": "https://localhost:8080/"
        },
        "id": "RBcpbPybURk_",
        "outputId": "276cb707-47cc-4204-8505-80d54a03b69b"
      },
      "source": [
        "k, n, m = map(int, input().split())\n",
        "\n",
        "if k * n > m:\n",
        "  print(k*n - m)\n",
        "else:\n",
        "  print(0)"
      ],
      "execution_count": null,
      "outputs": [
        {
          "output_type": "stream",
          "name": "stdout",
          "text": [
            "300 4 1000\n",
            "200\n"
          ]
        }
      ]
    },
    {
      "cell_type": "code",
      "metadata": {
        "colab": {
          "base_uri": "https://localhost:8080/"
        },
        "id": "FfUEihE2X2Qw",
        "outputId": "bf51860f-e0f0-4e94-df50-ecc955a4fdc5"
      },
      "source": [
        "x = []\n",
        "y = []\n",
        "for i in range(3):\n",
        "  a, b = map(int, input().split())\n",
        "  x.append(a)\n",
        "  y.append(b)\n",
        "\n",
        "for i in range(len(x)):\n",
        "  if x.count(x[i]) == 1:\n",
        "    x2 = x[i]\n",
        "  if y.count(y[i]) == 1:\n",
        "    y2 = y[i]\n",
        "\n",
        "print(x2, y2)"
      ],
      "execution_count": null,
      "outputs": [
        {
          "output_type": "stream",
          "name": "stdout",
          "text": [
            "5 5\n",
            "5 7\n",
            "7 5\n",
            "7 7\n"
          ]
        }
      ]
    },
    {
      "cell_type": "code",
      "metadata": {
        "colab": {
          "base_uri": "https://localhost:8080/"
        },
        "id": "rD3UkqWlYNuH",
        "outputId": "a8cb2e96-1919-4730-d9c6-abfada0a038e"
      },
      "source": [
        "n = int(input())\n",
        "l = []\n",
        "for i in range(n):\n",
        "  k = sorted(list(map(int, input().split())))\n",
        "  if len(set(k)) == 1:\n",
        "    l.append(10000+k[0]*1000)\n",
        "  elif len(set(k)) == 2:\n",
        "    l.append(1000 + k[1] * 100)\n",
        "  else:\n",
        "    l.append(k[2] * 100)\n",
        "\n",
        "print(max(l))\n",
        "\n"
      ],
      "execution_count": null,
      "outputs": [
        {
          "output_type": "stream",
          "name": "stdout",
          "text": [
            "3\n",
            "3 3 6\n",
            "2 2 2\n",
            "6 2 5\n",
            "12000\n"
          ]
        }
      ]
    },
    {
      "cell_type": "code",
      "metadata": {
        "colab": {
          "base_uri": "https://localhost:8080/"
        },
        "id": "-wIRI1_I5ITO",
        "outputId": "95ef54a1-a945-4775-a8f9-ba324a03a9ab"
      },
      "source": [
        "s = input()\n",
        "\n",
        "if s == 'F':\n",
        "  print(0.0)\n",
        "\n",
        "elif s[0] == 'A':\n",
        "  if s[1] == '+':\n",
        "    print(4.3)\n",
        "  elif s[1] == '0':\n",
        "    print(4.0)\n",
        "  elif s[1] == '-':\n",
        "    print(3.7)\n",
        "\n",
        "elif s[0] == 'B':\n",
        "  if s[1] == '+':\n",
        "    print(3.3)\n",
        "  elif s[1] == '0':\n",
        "    print(3.0)\n",
        "  elif s[1] == '-':\n",
        "    print(2.7)\n",
        "\n",
        "elif s[0] == 'C':\n",
        "  if s[1] == '+':\n",
        "    print(2.3)\n",
        "  elif s[1] == '0':\n",
        "    print(2.0)\n",
        "  elif s[1] == '-':\n",
        "    print(1.7)\n",
        "\n",
        "elif s[0] == 'D':\n",
        "  if s[1] == '+':\n",
        "    print(1.3)\n",
        "  elif s[1] == '0':\n",
        "    print(1.0)\n",
        "  elif s[1] == '-':\n",
        "    print(0.7)"
      ],
      "execution_count": null,
      "outputs": [
        {
          "output_type": "stream",
          "name": "stdout",
          "text": [
            "A-\n",
            "3.7\n"
          ]
        }
      ]
    },
    {
      "cell_type": "code",
      "metadata": {
        "colab": {
          "base_uri": "https://localhost:8080/"
        },
        "id": "Mrwe838v6yOi",
        "outputId": "84a9b5c8-c143-4055-eb40-17047b7af627"
      },
      "source": [
        "h, m = map(int, input().split())\n",
        "if m - 45 < 0:\n",
        "  if h == 0:\n",
        "    h = 24\n",
        "  h = h - 1\n",
        "  m = 60 + m - 45\n",
        "else:\n",
        "  m = m - 45\n",
        "\n",
        "print(h, m)"
      ],
      "execution_count": null,
      "outputs": [
        {
          "output_type": "stream",
          "name": "stdout",
          "text": [
            "23 40\n",
            "22 55\n"
          ]
        }
      ]
    },
    {
      "cell_type": "code",
      "metadata": {
        "colab": {
          "base_uri": "https://localhost:8080/"
        },
        "id": "Zi5xpvnm6SWW",
        "outputId": "b18e0028-96ba-447a-e371-3fb07ad2497f"
      },
      "source": [
        "s = input()\n",
        "p = 10\n",
        "for i in range(1, len(s)):\n",
        "  if s[i] == '(':\n",
        "    if s[i-1] =='(':\n",
        "      p += 5\n",
        "    else:\n",
        "      p += 10\n",
        "\n",
        "  elif s[i] == ')':\n",
        "    if s[i-1] =='(':\n",
        "      p += 10\n",
        "    else:\n",
        "      p += 5\n",
        "\n",
        "print(p)"
      ],
      "execution_count": null,
      "outputs": [
        {
          "output_type": "stream",
          "name": "stdout",
          "text": [
            "()()()))(\n",
            "80\n"
          ]
        }
      ]
    },
    {
      "cell_type": "code",
      "metadata": {
        "colab": {
          "base_uri": "https://localhost:8080/"
        },
        "id": "PknhOmVkBLPQ",
        "outputId": "89ca3865-7e44-4b11-ff09-7e9b1c28e9cb"
      },
      "source": [
        "n = int(input())\n",
        "l = []\n",
        "for i in range(n):\n",
        "  r, e, c = map(int, input().split())\n",
        "  if r > e - c:\n",
        "    l.append('do not advertise')\n",
        "  elif r == e - c:\n",
        "    l.append('does not matter')\n",
        "  elif r < e - c:\n",
        "    l.append('advertise')\n",
        "\n",
        "for i in l:\n",
        "  print(i)\n",
        "    "
      ],
      "execution_count": null,
      "outputs": [
        {
          "output_type": "stream",
          "name": "stdout",
          "text": [
            "3\n",
            "0 100 70\n",
            "100 130 30\n",
            "-100 -70 40\n",
            "advertise\n",
            "does not matter\n",
            "do not advertise\n"
          ]
        }
      ]
    },
    {
      "cell_type": "code",
      "metadata": {
        "colab": {
          "base_uri": "https://localhost:8080/"
        },
        "id": "n5rrUGjvG62Q",
        "outputId": "bef38916-bce3-4a50-992c-9f93b3d4ddb1"
      },
      "source": [
        "n = map(int, input())\n",
        "s = input()\n",
        "if s.count('A') > s.count('B'):\n",
        "  print('A')\n",
        "elif s.count('A') < s.count('B'):\n",
        "  print('B')\n",
        "else:\n",
        "  print('Tie')"
      ],
      "execution_count": null,
      "outputs": [
        {
          "output_type": "stream",
          "name": "stdout",
          "text": [
            "8\n",
            "BBBBAAAB\n",
            "B\n"
          ]
        }
      ]
    },
    {
      "cell_type": "code",
      "metadata": {
        "colab": {
          "base_uri": "https://localhost:8080/"
        },
        "id": "Fo2yg7PlJaip",
        "outputId": "57197e54-8eb2-4b9c-e9fb-b3808676bd8b"
      },
      "source": [
        "s = int(input())\n",
        "l = []\n",
        "for i in range(s):\n",
        "  l.append(input())\n",
        "\n",
        "if l.count('1') > l.count('0'):\n",
        "  print('Junhee is cute!')\n",
        "else:\n",
        "  print('Junhee is not cute!')"
      ],
      "execution_count": null,
      "outputs": [
        {
          "output_type": "stream",
          "name": "stdout",
          "text": [
            "3\n",
            "1\n",
            "0\n",
            "0\n",
            "Junhee is not cute!\n"
          ]
        }
      ]
    },
    {
      "cell_type": "code",
      "metadata": {
        "colab": {
          "base_uri": "https://localhost:8080/"
        },
        "id": "c9phu_eWKWh1",
        "outputId": "59996640-2c8d-4971-edb6-d1e9a6a1ccd4"
      },
      "source": [
        "s = input()\n",
        "k = 1\n",
        "for i in range(len(s)//2):\n",
        "  if s[i] != s[-i-1]:\n",
        "    k = 0\n",
        "    break\n",
        "\n",
        "print(k)\n"
      ],
      "execution_count": null,
      "outputs": [
        {
          "output_type": "stream",
          "name": "stdout",
          "text": [
            "level\n",
            "1\n"
          ]
        }
      ]
    },
    {
      "cell_type": "code",
      "metadata": {
        "colab": {
          "base_uri": "https://localhost:8080/"
        },
        "id": "1WUcpLD9KXUp",
        "outputId": "e7c50460-db49-434a-91f1-9940f9fcf6e1"
      },
      "source": [
        "l = []\n",
        "while True:\n",
        "  a, b = map(int, input().split())\n",
        "  if a == 0 and b == 0:\n",
        "    break\n",
        "  elif b % a == 0:\n",
        "    l.append('factor')\n",
        "  elif a % b == 0:\n",
        "    l.append('multiple')\n",
        "  else:\n",
        "    l.append('neither')\n",
        "\n",
        "for i in l:\n",
        "  print(i)"
      ],
      "execution_count": null,
      "outputs": [
        {
          "output_type": "stream",
          "name": "stdout",
          "text": [
            "8 16\n",
            "32 4\n",
            "17 5\n",
            "0 0\n",
            "factor\n",
            "multiple\n",
            "neither\n"
          ]
        }
      ]
    },
    {
      "cell_type": "code",
      "metadata": {
        "colab": {
          "base_uri": "https://localhost:8080/"
        },
        "id": "Hjb7pMcKS9s7",
        "outputId": "c9eb13f3-0a9a-4078-ffd3-ad8ffa3cdf3f"
      },
      "source": [
        "l = []\n",
        "while True:\n",
        "  a, b = map(int, input().split())\n",
        "  if a == 0 and b == 0:\n",
        "    break\n",
        "  else:\n",
        "    l.append(a+b)\n",
        "\n",
        "for i in l:\n",
        "  print(i)"
      ],
      "execution_count": null,
      "outputs": [
        {
          "output_type": "stream",
          "name": "stdout",
          "text": [
            "2 2\n",
            "2 3\n",
            "5 5\n",
            "1 1\n",
            "0 0\n",
            "4\n",
            "5\n",
            "10\n",
            "2\n"
          ]
        }
      ]
    },
    {
      "cell_type": "code",
      "metadata": {
        "colab": {
          "base_uri": "https://localhost:8080/"
        },
        "id": "Hqg-eeEXUxAq",
        "outputId": "eb0c97a2-4c39-48a8-e021-c973f20a4c98"
      },
      "source": [
        "n = int(input())\n",
        "Q1 = 0\n",
        "Q2 = 0\n",
        "Q3 = 0\n",
        "Q4 = 0\n",
        "AXIS = 0\n",
        "for i in range(n):\n",
        "  x, y = map(int,input().split())\n",
        "  if x == 0 or y == 0:\n",
        "    AXIS += 1\n",
        "  elif x > 0 and y > 0:\n",
        "    Q1 += 1\n",
        "  elif x < 0 and y > 0:\n",
        "    Q2 += 1\n",
        "  elif x < 0 and y < 0:\n",
        "    Q3 += 1\n",
        "  elif x > 0 and y < 0:\n",
        "    Q4 += 1\n",
        "\n",
        "print('Q1:', Q1)\n",
        "print('Q2:', Q2)\n",
        "print('Q3:', Q3)\n",
        "print('Q4:', Q4)\n",
        "print('AXIS:', AXIS)"
      ],
      "execution_count": null,
      "outputs": [
        {
          "output_type": "stream",
          "name": "stdout",
          "text": [
            "5\n",
            "0 0\n",
            "0 1\n",
            "1 1\n",
            "3 -3\n",
            "2 2\n",
            "Q1: 2\n",
            "Q2: 0\n",
            "Q3: 0\n",
            "Q4: 1\n",
            "AXIS: 2\n"
          ]
        }
      ]
    },
    {
      "cell_type": "code",
      "metadata": {
        "colab": {
          "base_uri": "https://localhost:8080/"
        },
        "id": "3IV5bywiXl7U",
        "outputId": "55a08182-d563-47f7-d6c9-e760bdd21a7c"
      },
      "source": [
        "n = int(input())\n",
        "l = []\n",
        "for i in range(n):\n",
        "  \n",
        "  s = list(input())\n",
        "  temp_s = []\n",
        "\n",
        "  if s[0] == 'O':\n",
        "    temp_s.append(1)\n",
        "  else:\n",
        "    temp_s.append(0)\n",
        "\n",
        "  for j in range(1, len(s)):\n",
        "    if s[j-1] == 'X' and s[j] == 'O':\n",
        "      temp_s.append(1)\n",
        "    elif s[j-1] == 'O' and s[j] == 'O':\n",
        "      temp_s.append(temp_s[j-1] + 1)\n",
        "    elif s[j] == 'X':\n",
        "      temp_s.append(0)\n",
        "    \n",
        "  l.append(sum(temp_s))\n",
        "\n",
        "for i in l:\n",
        "  print(i)\n",
        "  \n",
        "  \n",
        "\n",
        "\n",
        "      "
      ],
      "execution_count": null,
      "outputs": [
        {
          "output_type": "stream",
          "name": "stdout",
          "text": [
            "5\n",
            "OOXXOXXOOO\n",
            "OOXXOOXXOO\n",
            "OXOXOXOXOXOXOX\n",
            "OOOOOOOOOO\n",
            "OOOOXOOOOXOOOOX\n",
            "10\n",
            "9\n",
            "7\n",
            "55\n",
            "30\n"
          ]
        }
      ]
    },
    {
      "cell_type": "code",
      "metadata": {
        "colab": {
          "base_uri": "https://localhost:8080/",
          "height": 176
        },
        "id": "M83B-Ipae0F9",
        "outputId": "7f23b75f-d99e-4f59-ad29-b582b5d23fd9"
      },
      "source": [
        "[1,2,3].sum()"
      ],
      "execution_count": null,
      "outputs": [
        {
          "output_type": "error",
          "ename": "AttributeError",
          "evalue": "ignored",
          "traceback": [
            "\u001b[0;31m---------------------------------------------------------------------------\u001b[0m",
            "\u001b[0;31mAttributeError\u001b[0m                            Traceback (most recent call last)",
            "\u001b[0;32m<ipython-input-101-3bc09a90a9f2>\u001b[0m in \u001b[0;36m<module>\u001b[0;34m()\u001b[0m\n\u001b[0;32m----> 1\u001b[0;31m \u001b[0;34m[\u001b[0m\u001b[0;36m1\u001b[0m\u001b[0;34m,\u001b[0m\u001b[0;36m2\u001b[0m\u001b[0;34m,\u001b[0m\u001b[0;36m3\u001b[0m\u001b[0;34m]\u001b[0m\u001b[0;34m.\u001b[0m\u001b[0msum\u001b[0m\u001b[0;34m(\u001b[0m\u001b[0;34m)\u001b[0m\u001b[0;34m\u001b[0m\u001b[0;34m\u001b[0m\u001b[0m\n\u001b[0m",
            "\u001b[0;31mAttributeError\u001b[0m: 'list' object has no attribute 'sum'"
          ]
        }
      ]
    },
    {
      "cell_type": "code",
      "metadata": {
        "id": "Oww7Md-jfByw",
        "colab": {
          "base_uri": "https://localhost:8080/"
        },
        "outputId": "7d654f49-49f6-4105-f0d9-458e50b8971e"
      },
      "source": [
        "l = []\n",
        "\n",
        "while True:\n",
        "  s = int(input())\n",
        "  if s == -1:\n",
        "    break\n",
        "  \n",
        "  k = 0\n",
        "  temp = []\n",
        "  for i in range(1 , s):\n",
        "    if s % i == 0:\n",
        "      k += i\n",
        "      temp.append(str(i))\n",
        "\n",
        "  if s == k:\n",
        "    l.append('{} = '.format(s)+ ' + '.join(temp))\n",
        "  else:\n",
        "    l.append('{} is NOT perfect.'.format(s))\n",
        "\n",
        "for i in l:\n",
        "  print(i)"
      ],
      "execution_count": null,
      "outputs": [
        {
          "output_type": "stream",
          "name": "stdout",
          "text": [
            "6\n",
            "12\n",
            "28\n",
            "-1\n",
            "6 = 1 + 2 + 3\n",
            "12 is NOT perfect.\n",
            "28 = 1 + 2 + 4 + 7 + 14\n"
          ]
        }
      ]
    },
    {
      "cell_type": "code",
      "metadata": {
        "colab": {
          "base_uri": "https://localhost:8080/",
          "height": 36
        },
        "id": "6Hu-A7wBZXwV",
        "outputId": "b0a1005a-82c3-450e-f20f-526c0ff611d8"
      },
      "source": [
        "'123'.join(' + ')"
      ],
      "execution_count": null,
      "outputs": [
        {
          "output_type": "execute_result",
          "data": {
            "application/vnd.google.colaboratory.intrinsic+json": {
              "type": "string"
            },
            "text/plain": [
              "' 123+123 '"
            ]
          },
          "metadata": {},
          "execution_count": 8
        }
      ]
    },
    {
      "cell_type": "code",
      "metadata": {
        "colab": {
          "base_uri": "https://localhost:8080/"
        },
        "id": "Yae4WeN4bWbS",
        "outputId": "dfe74e77-6697-4f15-b75a-cd5efdc516de"
      },
      "source": [
        "t = int(input())\n",
        "\n",
        "a, b, c = 300, 60, 10\n",
        "\n",
        "if t % 10 != 0:\n",
        "  print(-1)\n",
        "\n",
        "else:\n",
        "  x1 = t // a\n",
        "  x2 = (t % a) // b\n",
        "  x3 = ((t % a) % b) // c\n",
        "\n",
        "  print(x1, x2, x3)\n",
        "  \n"
      ],
      "execution_count": null,
      "outputs": [
        {
          "output_type": "stream",
          "name": "stdout",
          "text": [
            "100\n",
            "0 1 4\n"
          ]
        }
      ]
    },
    {
      "cell_type": "code",
      "metadata": {
        "colab": {
          "base_uri": "https://localhost:8080/"
        },
        "id": "hd9tf1ptBCOG",
        "outputId": "11b074f3-d89d-45fb-fe00-75712dcb643c"
      },
      "source": [
        "n = int(input())\n",
        "cy = 100\n",
        "sd = 100\n",
        "for i in range(n):\n",
        "  c, s = map(int, input().split())\n",
        "  if c > s:\n",
        "    sd -= c\n",
        "  elif c < s:\n",
        "    cy -= s\n",
        "\n",
        "print(cy)\n",
        "print(sd)"
      ],
      "execution_count": null,
      "outputs": [
        {
          "output_type": "stream",
          "name": "stdout",
          "text": [
            "4\n",
            "5 6\n",
            "6 6\n",
            "4 3\n",
            "5 2\n",
            "94\n",
            "91\n"
          ]
        }
      ]
    },
    {
      "cell_type": "code",
      "metadata": {
        "colab": {
          "base_uri": "https://localhost:8080/"
        },
        "id": "g5lxd2oCBELN",
        "outputId": "8634f0bc-99fb-47c7-cd83-3ccc700a70ba"
      },
      "source": [
        "t = int(input())\n",
        "l = []\n",
        "for i in range(t):\n",
        "  yon = []\n",
        "  ko = []\n",
        "\n",
        "  for j in range(9):\n",
        "    y, k = map(int, input().split())\n",
        "    yon.append(y)\n",
        "    ko.append(k)\n",
        "  \n",
        "  if sum(yon) > sum(ko):\n",
        "    l.append('Yonsei')\n",
        "  elif sum(yon) < sum(ko):\n",
        "    l.append('Korea')\n",
        "  elif sum(yon) == sum(ko):\n",
        "    l.append('Draw')\n",
        "\n",
        "for i in l:\n",
        "  print(i)\n"
      ],
      "execution_count": null,
      "outputs": [
        {
          "output_type": "stream",
          "name": "stdout",
          "text": [
            "1\n",
            "1 3\n",
            "2 5\n",
            "6 1\n",
            "5 2\n",
            "1 6\n",
            "2 1\n",
            "3 3\n",
            "4 4\n",
            "5 1\n",
            "Yonsei\n"
          ]
        }
      ]
    },
    {
      "cell_type": "code",
      "metadata": {
        "colab": {
          "base_uri": "https://localhost:8080/"
        },
        "id": "-6jmmTcBE6hD",
        "outputId": "402cb5a7-73ca-41f1-80c3-d3252ff33bea"
      },
      "source": [
        "sum(ko)"
      ],
      "execution_count": null,
      "outputs": [
        {
          "output_type": "execute_result",
          "data": {
            "text/plain": [
              "3"
            ]
          },
          "metadata": {},
          "execution_count": 15
        }
      ]
    },
    {
      "cell_type": "code",
      "metadata": {
        "colab": {
          "base_uri": "https://localhost:8080/"
        },
        "id": "iYgnoyFgG6g7",
        "outputId": "fa01ad01-0962-4f57-e17a-f8f6e2475acf"
      },
      "source": [
        "t=int(input())\n",
        "c = []\n",
        "for i in range(t):\n",
        "  n = int(input())\n",
        "\n",
        "  a = []\n",
        "  b = []\n",
        "  for j in range(n):\n",
        "    s, l = input().split()\n",
        "    a.append(s)\n",
        "    b.append(int(l))\n",
        "    \n",
        "  ind = b.index(max(b))\n",
        "  c.append(a[ind])\n",
        "\n",
        "for i in c:\n",
        "  print(i)\n",
        "\n",
        "\n",
        "\n"
      ],
      "execution_count": null,
      "outputs": [
        {
          "output_type": "stream",
          "name": "stdout",
          "text": [
            "2\n",
            "3\n",
            "Yonsei 10\n",
            "Korea 100000\n",
            "Ewha 20\n",
            "2\n",
            "Yonsei 1\n",
            "Korea 1000000\n",
            "Korea\n",
            "Korea\n"
          ]
        }
      ]
    },
    {
      "cell_type": "code",
      "metadata": {
        "colab": {
          "base_uri": "https://localhost:8080/"
        },
        "id": "EjDFfEd0L52Z",
        "outputId": "0fa1a59c-3557-4415-fbed-1a6af83a5ad3"
      },
      "source": [
        "print('Korea\\n' * int(input()))"
      ],
      "execution_count": null,
      "outputs": [
        {
          "output_type": "stream",
          "name": "stdout",
          "text": [
            "3\n",
            "Korea\n",
            "Korea\n",
            "Korea\n",
            "\n"
          ]
        }
      ]
    },
    {
      "cell_type": "code",
      "metadata": {
        "colab": {
          "base_uri": "https://localhost:8080/"
        },
        "id": "clNsrs_kN4Xw",
        "outputId": "9772e3b5-a86e-40d3-bdf7-cdd1871f6bbb"
      },
      "source": [
        "A, B = map(int, input().split())\n",
        "print(A +B)"
      ],
      "execution_count": null,
      "outputs": [
        {
          "output_type": "stream",
          "name": "stdout",
          "text": [
            "9223372036854775807 9223372036854775808\n",
            "18446744073709551615\n"
          ]
        }
      ]
    },
    {
      "cell_type": "code",
      "metadata": {
        "colab": {
          "base_uri": "https://localhost:8080/"
        },
        "id": "m2m1TDXoOQP4",
        "outputId": "2a9aaa49-c149-4fef-a799-58ada16bf475"
      },
      "source": [
        "t=int(input())\n",
        "c = []\n",
        "for i in range(t):\n",
        "  n = int(input())\n",
        "\n",
        "  dict = {}\n",
        "  for j in range(n):\n",
        "    s, l = input().split()\n",
        "    dict[s] = int(l)\n",
        "\n",
        "  for key, value in dict.items():\n",
        "    if value == max(dict.values()):\n",
        "      c.append(key)\n",
        "\n",
        "for i in c:\n",
        "  print(i)\n",
        "\n"
      ],
      "execution_count": null,
      "outputs": [
        {
          "output_type": "stream",
          "name": "stdout",
          "text": [
            "2\n",
            "3\n",
            "A 20\n",
            "B 10\n",
            "C 5\n",
            "{'A': 20, 'B': 10, 'C': 5}\n",
            "2\n",
            "A 10\n",
            "B 20\n",
            "{'A': 10, 'B': 20}\n",
            "A\n",
            "B\n"
          ]
        }
      ]
    },
    {
      "cell_type": "code",
      "metadata": {
        "colab": {
          "base_uri": "https://localhost:8080/"
        },
        "id": "PFyrQCmDPzxe",
        "outputId": "c4d54f2f-e570-4957-99b9-0707a1ab12db"
      },
      "source": [
        "s = {'s' : 12, 'd': 13}\n",
        "s.keys()\n",
        "max(s.items())"
      ],
      "execution_count": null,
      "outputs": [
        {
          "output_type": "execute_result",
          "data": {
            "text/plain": [
              "('s', 12)"
            ]
          },
          "metadata": {},
          "execution_count": 40
        }
      ]
    },
    {
      "cell_type": "code",
      "metadata": {
        "colab": {
          "base_uri": "https://localhost:8080/"
        },
        "id": "vJGuOr4VRPuH",
        "outputId": "65d9a886-a251-46cb-b234-8b824e78a54e"
      },
      "source": [
        "\n",
        "M = int(input())\n",
        "N = int(input())\n",
        "l = []\n",
        "for i in range(M, N+1):\n",
        "  if i == 1:\n",
        "    l.append(i)\n",
        "  else:\n",
        "    for j in range(i):\n",
        "      if i == j * j:\n",
        "        l.append(i)\n",
        "\n",
        "if len(l) == 0:\n",
        "  print(-1)\n",
        "else:\n",
        "  print(sum(l))\n",
        "  print(min(l))\n",
        "\n",
        "  \n"
      ],
      "execution_count": null,
      "outputs": [
        {
          "output_type": "stream",
          "name": "stdout",
          "text": [
            "1\n",
            "1\n",
            "1\n",
            "1\n"
          ]
        }
      ]
    },
    {
      "cell_type": "code",
      "metadata": {
        "colab": {
          "base_uri": "https://localhost:8080/"
        },
        "id": "ktpLX3p7VSDt",
        "outputId": "4e08ff83-3835-45e3-d70e-c65eeca9def4"
      },
      "source": [
        "1 for i in range(1):\n",
        "   print(i)"
      ],
      "execution_count": null,
      "outputs": [
        {
          "output_type": "stream",
          "name": "stdout",
          "text": [
            "0\n"
          ]
        }
      ]
    },
    {
      "cell_type": "code",
      "metadata": {
        "colab": {
          "base_uri": "https://localhost:8080/"
        },
        "id": "FqwT6wxTZvY8",
        "outputId": "113c33c1-7eb2-4140-a381-dd6504393961"
      },
      "source": [
        "t = int(input())\n",
        "l = []\n",
        "for i in range(t):\n",
        "  j = int(input())\n",
        "  dict = {}\n",
        "  for k in range(j):\n",
        "    cost, name = input().split()\n",
        "    dict[int(cost)] = name\n",
        "  \n",
        "  l.append(dict[max(dict.keys())])\n",
        "\n",
        "for i in l:\n",
        "  print(i)\n",
        "  \n"
      ],
      "execution_count": null,
      "outputs": [
        {
          "output_type": "stream",
          "name": "stdout",
          "text": [
            "2\n",
            "3\n",
            "10 I\n",
            "100 N\n",
            "200 R\n",
            "2\n",
            "100 M\n",
            "99 B\n",
            "R\n",
            "M\n"
          ]
        }
      ]
    },
    {
      "cell_type": "code",
      "metadata": {
        "colab": {
          "base_uri": "https://localhost:8080/"
        },
        "id": "qSCTxgMFhQ34",
        "outputId": "faf2e9ed-8895-4610-b3b5-1ec475472d4d"
      },
      "source": [
        "n = int(input())\n",
        "l = []\n",
        "for i in range(n):\n",
        "  name, day, month, year = input().split()\n",
        "  if len(month) == 1:\n",
        "    month = '0' + month\n",
        "  if len(day) == 1:\n",
        "    day = '0' + day\n",
        "  l.append([name, int(year+month+day)])\n",
        "\n",
        "l.sort(key = lambda x: x[1])\n",
        "print(l[len(l)-1][0])\n",
        "print(l[0][0])\n",
        "\n",
        "\n",
        "\n",
        "\n"
      ],
      "execution_count": null,
      "outputs": [
        {
          "output_type": "stream",
          "name": "stdout",
          "text": [
            "5\n",
            "Mickey 1 10 1991\n",
            "Alice 30 12 1990\n",
            "Tom 15 8 1993\n",
            "Jerry 18 9 1990\n",
            "Garfield 20 9 1990\n",
            "Tom\n",
            "Jerry\n"
          ]
        }
      ]
    },
    {
      "cell_type": "code",
      "metadata": {
        "colab": {
          "base_uri": "https://localhost:8080/"
        },
        "id": "gNYC5qbbnVnW",
        "outputId": "60f1b453-f6e1-44ff-baba-fdb89fcf9b04"
      },
      "source": [
        "p_hour, p_minuite, p_second = map(int, input().split(':'))\n",
        "s_hour, s_minuite, s_second = map(int, input().split(':'))\n",
        "\n",
        "if p_hour > s_hour:\n",
        "  s_hour += 24\n",
        "\n",
        "if p_second > s_second:\n",
        "  s_second += 60\n",
        "  if s_minuite == 0:\n",
        "    s_minuite += 60\n",
        "    if s_hour == 0:\n",
        "      s_hour += 24\n",
        "    s_hour -= 1\n",
        "  s_minuite -= 1\n",
        "\n",
        "if p_minuite > s_minuite:\n",
        "  s_minuite += 60\n",
        "  if s_hour == 0:\n",
        "    s_hour += 24\n",
        "  s_hour -= 1\n",
        "\n",
        "h = str(s_hour - p_hour)\n",
        "m =str(s_minuite - p_minuite)\n",
        "s = str(s_second - p_second)\n",
        "if len(h) == 1:\n",
        "  h = '0' + h\n",
        "if len(m) == 1:\n",
        "  m = '0' + m\n",
        "if len(s) == 1:\n",
        "  s = '0' + s\n",
        "print(h + ':' + m + ':' + s)"
      ],
      "execution_count": null,
      "outputs": [
        {
          "output_type": "stream",
          "name": "stdout",
          "text": [
            "13:52:30\n",
            "14:00:00\n",
            "00:07:30\n"
          ]
        }
      ]
    },
    {
      "cell_type": "code",
      "metadata": {
        "id": "41t7NDIJnWm2"
      },
      "source": [
        ""
      ],
      "execution_count": null,
      "outputs": []
    }
  ]
}