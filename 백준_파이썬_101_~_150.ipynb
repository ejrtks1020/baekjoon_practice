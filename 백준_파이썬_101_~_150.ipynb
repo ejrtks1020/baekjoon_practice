{
  "nbformat": 4,
  "nbformat_minor": 0,
  "metadata": {
    "colab": {
      "name": "백준 파이썬 101 ~ 150",
      "provenance": [],
      "collapsed_sections": [],
      "authorship_tag": "ABX9TyMWthluGOqrMYj8kWh36l/a",
      "include_colab_link": true
    },
    "kernelspec": {
      "name": "python3",
      "display_name": "Python 3"
    },
    "language_info": {
      "name": "python"
    }
  },
  "cells": [
    {
      "cell_type": "markdown",
      "metadata": {
        "id": "view-in-github",
        "colab_type": "text"
      },
      "source": [
        "<a href=\"https://colab.research.google.com/github/ejrtks1020/baekjoon_practice/blob/main/%EB%B0%B1%EC%A4%80_%ED%8C%8C%EC%9D%B4%EC%8D%AC_101_~_150.ipynb\" target=\"_parent\"><img src=\"https://colab.research.google.com/assets/colab-badge.svg\" alt=\"Open In Colab\"/></a>"
      ]
    },
    {
      "cell_type": "code",
      "metadata": {
        "colab": {
          "base_uri": "https://localhost:8080/"
        },
        "id": "mSMEbrDEMHum",
        "outputId": "7abd1dbc-97d6-41a3-b221-7f9c2bf2bba4"
      },
      "source": [
        "l = list(map(list, input().split()))\n",
        "\n",
        "for i in range(2):\n",
        "\n",
        "  temp = l[i][0]\n",
        "  l[i][0] = l[i][2]\n",
        "  l[i][2] = temp\n",
        "  l[i] = int(''.join(l[i]))\n",
        "\n",
        "print(max(l))\n",
        "\n",
        "\n",
        "\n"
      ],
      "execution_count": null,
      "outputs": [
        {
          "output_type": "stream",
          "name": "stdout",
          "text": [
            "734 893\n",
            "437\n"
          ]
        }
      ]
    },
    {
      "cell_type": "code",
      "metadata": {
        "colab": {
          "base_uri": "https://localhost:8080/"
        },
        "id": "PMFenWpmOuqf",
        "outputId": "bb9d47cb-7265-4ffb-bdd9-e5da7c45af38"
      },
      "source": [
        "l = []\n",
        "for i in range(10):\n",
        "  out, in_ = map(int, input().split())\n",
        "  if i == 0:\n",
        "    l.append(in_)\n",
        "  else:\n",
        "    l.append(l[i-1] - out + in_)\n",
        "\n",
        "print(max(l))"
      ],
      "execution_count": null,
      "outputs": [
        {
          "output_type": "stream",
          "name": "stdout",
          "text": [
            "0 32\n",
            "3 13\n",
            "28 25\n",
            "17 5\n",
            "21 20\n",
            "11 0\n",
            "12 12\n",
            "4 2\n",
            "0 8\n",
            "21 0\n",
            "42\n"
          ]
        }
      ]
    },
    {
      "cell_type": "code",
      "metadata": {
        "id": "5iYsD0OXPf9N",
        "colab": {
          "base_uri": "https://localhost:8080/"
        },
        "outputId": "c44a242d-1563-4c08-9117-b86feed4dd4a"
      },
      "source": [
        "a = 1\n",
        "for i in range(3):\n",
        "  k = int(input())\n",
        "  a *= k\n",
        "\n",
        "a = list(str(a))\n",
        "for i in range(10):\n",
        "  print(a.count(str(i)))\n"
      ],
      "execution_count": null,
      "outputs": [
        {
          "output_type": "stream",
          "name": "stdout",
          "text": [
            "150\n",
            "266\n",
            "427\n",
            "3\n",
            "1\n",
            "0\n",
            "2\n",
            "0\n",
            "0\n",
            "0\n",
            "2\n",
            "0\n",
            "0\n"
          ]
        }
      ]
    },
    {
      "cell_type": "code",
      "metadata": {
        "colab": {
          "base_uri": "https://localhost:8080/"
        },
        "id": "lfvWIdIdUI_b",
        "outputId": "8adbdf4c-6911-461f-f723-a36ce7787ef8"
      },
      "source": [
        "x = []\n",
        "y = []\n",
        "k = 0\n",
        "for i in range(10):\n",
        "  s = int(input())\n",
        "  k += s\n",
        "  x.append(s)\n",
        "\n",
        "for i in set(x):\n",
        "  y.append(x.count(i))\n",
        "print(k//10)\n",
        "print(list(set(x))[y.index(max(y))])\n",
        "\n"
      ],
      "execution_count": null,
      "outputs": [
        {
          "output_type": "stream",
          "name": "stdout",
          "text": [
            "10\n",
            "40\n",
            "30\n",
            "60\n",
            "30\n",
            "20\n",
            "60\n",
            "30\n",
            "40\n",
            "50\n",
            "37\n",
            "30\n"
          ]
        }
      ]
    },
    {
      "cell_type": "code",
      "metadata": {
        "colab": {
          "base_uri": "https://localhost:8080/"
        },
        "id": "nJ-ioT5tY8QS",
        "outputId": "aa79702e-6038-4d77-f0fe-89d9b1851bd3"
      },
      "source": [
        "n = int(input())\n",
        "\n",
        "for i in range(n):\n",
        "  a, b = input().split()\n",
        "  a= int(a)\n",
        "  print(b[:a-1] + b[a:])"
      ],
      "execution_count": null,
      "outputs": [
        {
          "output_type": "stream",
          "name": "stdout",
          "text": [
            "4\n",
            "4 MISSPELL\n",
            "MISPELL\n",
            "1 PROGRAMMING\n",
            "ROGRAMMING\n",
            "7 CONTEST\n",
            "CONTES\n",
            "3 BALLOON\n",
            "BALOON\n"
          ]
        }
      ]
    },
    {
      "cell_type": "code",
      "metadata": {
        "colab": {
          "base_uri": "https://localhost:8080/"
        },
        "id": "kmyhXxeHdFEx",
        "outputId": "ae185d57-a587-45d1-bf23-bee06df9a239"
      },
      "source": [
        "l = []\n",
        "for i in range(5):\n",
        "  s = map(int, input().split())\n",
        "  l.append(sum(s))\n",
        "\n",
        "print(l.index(max(l))+1 ,max(l))\n",
        "\n"
      ],
      "execution_count": null,
      "outputs": [
        {
          "output_type": "stream",
          "name": "stdout",
          "text": [
            "4 4 3 3\n",
            "5 4 3 5\n",
            "5 5 2 4\n",
            "5 5 5 1\n",
            "4 4 4 4\n",
            "2 17\n"
          ]
        }
      ]
    },
    {
      "cell_type": "code",
      "metadata": {
        "colab": {
          "base_uri": "https://localhost:8080/"
        },
        "id": "OC5FYTIMhjz2",
        "outputId": "e36ca25d-143f-4e67-deb4-92bbf4fa724d"
      },
      "source": [
        "l = []\n",
        "for i in range(10):\n",
        "  n = int(input())\n",
        "  l.append(n % 42)\n",
        "\n",
        "print(len(set(l)))"
      ],
      "execution_count": null,
      "outputs": [
        {
          "output_type": "stream",
          "name": "stdout",
          "text": [
            "1\n",
            "2\n",
            "3\n",
            "4\n",
            "5\n",
            "6\n",
            "7\n",
            "8\n",
            "9\n",
            "10\n",
            "10\n"
          ]
        }
      ]
    },
    {
      "cell_type": "code",
      "metadata": {
        "colab": {
          "base_uri": "https://localhost:8080/"
        },
        "id": "BdGvkJy2itzN",
        "outputId": "80494b76-0630-4945-a1ca-01f3b09fcaa0"
      },
      "source": [
        "l = []\n",
        "i = 1\n",
        "a, b = map(int, input().split())\n",
        "while True:\n",
        "  for j in range(i):\n",
        "    l.append(i)\n",
        "  if len(l) >= b:\n",
        "    break\n",
        "  i += 1\n",
        "  \n",
        "print(sum(l[a-1 : b]))\n",
        "  "
      ],
      "execution_count": null,
      "outputs": [
        {
          "output_type": "stream",
          "name": "stdout",
          "text": [
            "3 5\n",
            "8\n"
          ]
        }
      ]
    },
    {
      "cell_type": "code",
      "metadata": {
        "colab": {
          "base_uri": "https://localhost:8080/"
        },
        "id": "1PaOjR-VlqTm",
        "outputId": "1e797c6f-3523-4125-a108-5c302aa52100"
      },
      "source": [
        "t =int(input())\n",
        "for i in range(t):\n",
        "  n = int(input())\n",
        "  k = 0\n",
        "  for i in range(21):\n",
        "    if 2 ** i > n:\n",
        "      k = i-1\n",
        "      break\n",
        "  \n",
        "  l = []\n",
        "  for i in range(k,  -1, -1):\n",
        "    if n // (2**i) == 1:\n",
        "      l.append(1)\n",
        "      n = n % (2 ** i)\n",
        "    else:\n",
        "      l.append(0)\n",
        "\n",
        "  l.reverse()\n",
        "  for i in range(len(l)):\n",
        "    if l[i] == 1:\n",
        "      if i == len(l) - 1:\n",
        "        print(i)\n",
        "      else:\n",
        "        print(i, end = ' ')\n",
        "    \n",
        "  \n"
      ],
      "execution_count": null,
      "outputs": [
        {
          "output_type": "stream",
          "name": "stdout",
          "text": [
            "2\n",
            "2\n",
            "[0, 1]\n",
            "1\n",
            "9\n",
            "[1, 0, 0, 1]\n",
            "0 3\n"
          ]
        }
      ]
    },
    {
      "cell_type": "code",
      "metadata": {
        "colab": {
          "base_uri": "https://localhost:8080/"
        },
        "id": "72JVsF0cJLVD",
        "outputId": "1ef81e20-2095-4457-fb6f-0732631ad8d3"
      },
      "source": [
        "1 2 ** 20"
      ],
      "execution_count": null,
      "outputs": [
        {
          "output_type": "execute_result",
          "data": {
            "text/plain": [
              "1048576"
            ]
          },
          "metadata": {},
          "execution_count": 17
        }
      ]
    },
    {
      "cell_type": "code",
      "metadata": {
        "colab": {
          "base_uri": "https://localhost:8080/"
        },
        "id": "V42DmvmSeoEN",
        "outputId": "cdf8c02b-be9d-4156-fb6c-425838b45b80"
      },
      "source": [
        "10 ** 6"
      ],
      "execution_count": null,
      "outputs": [
        {
          "output_type": "execute_result",
          "data": {
            "text/plain": [
              "1000000"
            ]
          },
          "metadata": {},
          "execution_count": 18
        }
      ]
    },
    {
      "cell_type": "code",
      "metadata": {
        "colab": {
          "base_uri": "https://localhost:8080/",
          "height": 35
        },
        "id": "Svaph2hleqc7",
        "outputId": "3d78c989-b289-48e4-cee6-2786ba1dc91f"
      },
      "source": [
        "bin(9)"
      ],
      "execution_count": null,
      "outputs": [
        {
          "output_type": "execute_result",
          "data": {
            "application/vnd.google.colaboratory.intrinsic+json": {
              "type": "string"
            },
            "text/plain": [
              "'0b1001'"
            ]
          },
          "metadata": {},
          "execution_count": 32
        }
      ]
    },
    {
      "cell_type": "code",
      "metadata": {
        "colab": {
          "base_uri": "https://localhost:8080/"
        },
        "id": "6g4jgBvToKTY",
        "outputId": "7ebb66b6-4d31-4c68-9af7-18ec9902fbd4"
      },
      "source": [
        "n = int(input())\n",
        "l = map(int, input().split())\n",
        "num = int(input())\n",
        "c = 0\n",
        "for i in l:\n",
        "  if i == num:\n",
        "    c += 1\n",
        "\n",
        "print(c)"
      ],
      "execution_count": null,
      "outputs": [
        {
          "output_type": "stream",
          "name": "stdout",
          "text": [
            "11\n",
            "1 4 1 2 4 2 4 2 3 4 4\n",
            "2\n",
            "3\n"
          ]
        }
      ]
    },
    {
      "cell_type": "code",
      "metadata": {
        "colab": {
          "base_uri": "https://localhost:8080/"
        },
        "id": "tjOuSokJpMLH",
        "outputId": "38d02800-9f0a-4cdc-8357-b58501681365"
      },
      "source": [
        "n = int(input())\n",
        "l = list(map(int, input().split()))\n",
        "print(min(l), max(l))"
      ],
      "execution_count": null,
      "outputs": [
        {
          "output_type": "stream",
          "name": "stdout",
          "text": [
            "5\n",
            "20 10 35 30 7\n",
            "7 35\n"
          ]
        }
      ]
    },
    {
      "cell_type": "code",
      "metadata": {
        "colab": {
          "base_uri": "https://localhost:8080/"
        },
        "id": "L-87lAQypuc_",
        "outputId": "9a068c22-3db3-43bc-d28e-5d455e456970"
      },
      "source": [
        "n = int(input())\n",
        "for i in range(n):\n",
        "  k = int(input())\n",
        "  l = list(map(int, input().split()))\n",
        "  l.sort()\n",
        "  \n",
        "  print((max(l)-min(l)) * 2)\n"
      ],
      "execution_count": null,
      "outputs": [
        {
          "output_type": "stream",
          "name": "stdout",
          "text": [
            "1\n",
            "4\n",
            "24 13 89 37\n",
            "152\n"
          ]
        }
      ]
    },
    {
      "cell_type": "code",
      "metadata": {
        "colab": {
          "base_uri": "https://localhost:8080/"
        },
        "id": "8wVbY2MWp4hn",
        "outputId": "c9c34ff2-487c-4d9b-9a65-7461da69b580"
      },
      "source": [
        "l = []\n",
        "for i in range(8):\n",
        "  l.append(int(input()))\n",
        "\n",
        "l2 = sorted(l,reverse=True)[:5]\n",
        "\n",
        "print(sum(l2))\n",
        "for i in range(len(l)):\n",
        "  if l[i] in l2:\n",
        "    print(i+1, end = ' ')"
      ],
      "execution_count": null,
      "outputs": [
        {
          "output_type": "stream",
          "name": "stdout",
          "text": [
            "20\n",
            "30\n",
            "50\n",
            "48\n",
            "33\n",
            "66\n",
            "0\n",
            "64\n",
            "261\n",
            "3 4 5 6 8 "
          ]
        }
      ]
    },
    {
      "cell_type": "code",
      "metadata": {
        "colab": {
          "base_uri": "https://localhost:8080/"
        },
        "id": "ualizHUbvMo2",
        "outputId": "2ea1a8c1-2e57-4749-ea3a-c3735d7f6a3f"
      },
      "source": [
        "n = int(input())\n",
        "l = []\n",
        "for i in range(n):\n",
        "  l.append(int(input()))\n",
        "for i in sorted(l):\n",
        "  print(i)"
      ],
      "execution_count": null,
      "outputs": [
        {
          "output_type": "stream",
          "name": "stdout",
          "text": [
            "5\n",
            "5\n",
            "2\n",
            "3\n",
            "4\n",
            "1\n",
            "1\n",
            "2\n",
            "3\n",
            "4\n",
            "5\n"
          ]
        }
      ]
    },
    {
      "cell_type": "code",
      "metadata": {
        "colab": {
          "base_uri": "https://localhost:8080/"
        },
        "id": "yRcjbmoWvSRd",
        "outputId": "1f3fb3d4-74ec-47a4-991a-e97fb9166107"
      },
      "source": [
        "l = sorted(list(map(int, input().split())))\n",
        "for i in range(3):\n",
        "  print(l[i], end = ' ')\n"
      ],
      "execution_count": null,
      "outputs": [
        {
          "output_type": "stream",
          "name": "stdout",
          "text": [
            "111 555 66\n",
            "66 111 555 "
          ]
        }
      ]
    },
    {
      "cell_type": "code",
      "metadata": {
        "colab": {
          "base_uri": "https://localhost:8080/"
        },
        "id": "qLStXA5rx4-M",
        "outputId": "3fa06aaa-d360-4fe4-e847-555ad926e9ff"
      },
      "source": [
        "n = int(input())\n",
        "l = list(map(int,input().split()))\n",
        "print(min(l) * max(l))\n",
        "\n",
        "  \n",
        "\n",
        "\n"
      ],
      "execution_count": null,
      "outputs": [
        {
          "output_type": "stream",
          "name": "stdout",
          "text": [
            "1\n",
            "3\n",
            "9\n"
          ]
        }
      ]
    },
    {
      "cell_type": "code",
      "metadata": {
        "colab": {
          "base_uri": "https://localhost:8080/"
        },
        "id": "lGkaEjaF5cAJ",
        "outputId": "d1412485-3ee2-4438-857e-db6b57abd71e"
      },
      "source": [
        "l = []\n",
        "for i in range(5):\n",
        "  l.append(int(input()))\n",
        "\n",
        "print(min(l[:3]) + min(l[3:]) - 50)\n"
      ],
      "execution_count": null,
      "outputs": [
        {
          "output_type": "stream",
          "name": "stdout",
          "text": [
            "800\n",
            "700\n",
            "900\n",
            "198\n",
            "330\n",
            "848\n"
          ]
        }
      ]
    },
    {
      "cell_type": "code",
      "metadata": {
        "id": "b4hY7gRl51h4",
        "colab": {
          "base_uri": "https://localhost:8080/"
        },
        "outputId": "5b0bccfe-d3ea-444a-dad4-5ff167d4dd33"
      },
      "source": [
        "l = []\n",
        "for i in range(5):\n",
        "  l.append(int(input()))\n",
        "\n",
        "print(sum(l) // 5)\n",
        "print(sorted(l)[2])\n",
        "\n"
      ],
      "execution_count": null,
      "outputs": [
        {
          "output_type": "stream",
          "name": "stdout",
          "text": [
            "10\n",
            "40\n",
            "30\n",
            "60\n",
            "30\n",
            "34\n",
            "30\n"
          ]
        }
      ]
    },
    {
      "cell_type": "code",
      "metadata": {
        "colab": {
          "base_uri": "https://localhost:8080/"
        },
        "id": "gruG77YOyTfd",
        "outputId": "06975959-dc0c-4a88-e7fb-0304f7982473"
      },
      "source": [
        "for i in sorted(map(int, list(input())), reverse=True):\n",
        "  print(i, end='')\n",
        "\n"
      ],
      "execution_count": null,
      "outputs": [
        {
          "output_type": "stream",
          "name": "stdout",
          "text": [
            "2143\n",
            "4321"
          ]
        }
      ]
    },
    {
      "cell_type": "code",
      "metadata": {
        "colab": {
          "base_uri": "https://localhost:8080/"
        },
        "id": "Tx7Ot9sIy1CW",
        "outputId": "7ee8e87e-c4c3-4184-bbc2-cbc07a35462d"
      },
      "source": [
        "l = []\n",
        "f = False\n",
        "for i in range(9):\n",
        "  l.append(int(input()))\n",
        "\n",
        "for i in range(8):\n",
        "  for j in range(i, 8):\n",
        "    k = l.copy()\n",
        "    del k[i]\n",
        "    del k[j]\n",
        "    if sum(k) == 100:\n",
        "      for m in sorted(k):\n",
        "        print(m)\n",
        "      f = True\n",
        "  if f:\n",
        "    break\n",
        "\n",
        "\n",
        "#1 2 3 4 5 6 7 8 9"
      ],
      "execution_count": null,
      "outputs": [
        {
          "output_type": "stream",
          "name": "stdout",
          "text": [
            "20\n",
            "7\n",
            "23\n",
            "19\n",
            "10\n",
            "15\n",
            "25\n",
            "8\n",
            "13\n",
            "7\n",
            "8\n",
            "10\n",
            "13\n",
            "19\n",
            "20\n",
            "23\n"
          ]
        }
      ]
    },
    {
      "cell_type": "code",
      "metadata": {
        "colab": {
          "base_uri": "https://localhost:8080/"
        },
        "id": "4FK-DWCP-s72",
        "outputId": "4e6aaff8-6c34-4e67-b2c7-f1565616c18b"
      },
      "source": [
        "type(k)"
      ],
      "execution_count": null,
      "outputs": [
        {
          "output_type": "execute_result",
          "data": {
            "text/plain": [
              "list"
            ]
          },
          "metadata": {},
          "execution_count": 6
        }
      ]
    },
    {
      "cell_type": "code",
      "metadata": {
        "id": "ydXtQICgBD3O"
      },
      "source": [
        "p = [1,2 ,3]\n",
        "del p[0], p[1]"
      ],
      "execution_count": null,
      "outputs": []
    },
    {
      "cell_type": "code",
      "metadata": {
        "colab": {
          "base_uri": "https://localhost:8080/"
        },
        "id": "RO0NkBDjCyr3",
        "outputId": "5c396441-3a73-44ff-974f-1c434744bda5"
      },
      "source": [
        "n = int(input())\n",
        "\n",
        "for i in range(n):\n",
        "  l = list(map(int, input().split()))\n",
        "  l.remove(max(l))\n",
        "  l.remove(min(l))\n",
        "  if max(l) - min(l) >= 4:\n",
        "    print('KIN')\n",
        "  else:\n",
        "    print(sum(l))"
      ],
      "execution_count": null,
      "outputs": [
        {
          "output_type": "stream",
          "name": "stdout",
          "text": [
            "4\n",
            "10 8 5 7 9\n",
            "24\n",
            "10 9 10 9 5\n",
            "28\n",
            "10 3 5 9 10\n",
            "KIN\n",
            "1 2 3 6 9\n",
            "KIN\n"
          ]
        }
      ]
    },
    {
      "cell_type": "code",
      "metadata": {
        "id": "Y-EcKazjC58Y",
        "colab": {
          "base_uri": "https://localhost:8080/"
        },
        "outputId": "b09c4397-9743-476a-8795-0c2d863f7a20"
      },
      "source": [
        "n = int(input())\n",
        "\n",
        "for i in range(n):\n",
        "  l = sorted(list(map(int, input().split())), reverse = True)\n",
        "  print(l[2])"
      ],
      "execution_count": null,
      "outputs": [
        {
          "output_type": "stream",
          "name": "stdout",
          "text": [
            "4\n",
            "1 2 3 4 5 6 7 8 9 1000\n",
            "8\n",
            "338 304 619 95 343 496 489 116 98 127\n",
            "489\n",
            "931 240 986 894 826 640 965 833 136 138\n",
            "931\n",
            "940 955 364 188 133 254 501 122 768 408\n",
            "768\n"
          ]
        }
      ]
    },
    {
      "cell_type": "code",
      "metadata": {
        "colab": {
          "base_uri": "https://localhost:8080/"
        },
        "id": "umNLTBjJ5TxH",
        "outputId": "3a7bc5c9-fc2d-4a72-cf7f-781119c65b55"
      },
      "source": [
        "n = int(input())\n",
        "for i in range(n):\n",
        "  p, m = map(int, input().split())\n",
        "  seat = []\n",
        "  for j in range(p):\n",
        "    seat.append(int(input()))\n",
        "  print(p - len(set(seat)))"
      ],
      "execution_count": null,
      "outputs": [
        {
          "output_type": "stream",
          "name": "stdout",
          "text": [
            "3\n",
            "4 1\n",
            "1\n",
            "1\n",
            "1\n",
            "1\n",
            "3\n",
            "4 4\n",
            "1\n",
            "2\n",
            "3\n",
            "4\n",
            "0\n",
            "4 4\n",
            "1\n",
            "4\n",
            "1\n",
            "4\n",
            "2\n"
          ]
        }
      ]
    },
    {
      "cell_type": "code",
      "metadata": {
        "colab": {
          "base_uri": "https://localhost:8080/"
        },
        "id": "vHVB-ckI6MLV",
        "outputId": "9c7192c4-1131-460e-9f6a-b3a886bc2074"
      },
      "source": [
        "k = int(input())\n",
        "l = []\n",
        "for i in range(k):\n",
        "  n = int(input())\n",
        "  if n != 0:\n",
        "    l.append(n)\n",
        "  else:\n",
        "    l.pop()\n",
        "\n",
        "print(sum(l))\n",
        "  \n"
      ],
      "execution_count": null,
      "outputs": [
        {
          "output_type": "stream",
          "name": "stdout",
          "text": [
            "10\n",
            "1\n",
            "3\n",
            "5\n",
            "4\n",
            "0\n",
            "0\n",
            "7\n",
            "0\n",
            "0\n",
            "6\n",
            "7\n"
          ]
        }
      ]
    },
    {
      "cell_type": "code",
      "metadata": {
        "colab": {
          "base_uri": "https://localhost:8080/"
        },
        "id": "t0Dl9mcH9tHE",
        "outputId": "68d4357b-84a8-4f42-9e97-778b840a0d62"
      },
      "source": [
        "l = []\n",
        "flag = False\n",
        "for i in range(9):\n",
        "  l.append(int(input()))\n",
        "\n",
        "for i in range(8):\n",
        "  for j in range(i , 8):\n",
        "    l2 = l.copy()\n",
        "    del l2[i]\n",
        "    del l2[j]\n",
        "    if sum(l2) == 100:\n",
        "      flag = True\n",
        "      l = l2.copy()\n",
        "      break\n",
        "  if flag:\n",
        "    break\n",
        "\n",
        "for i in l:\n",
        "  print(i)"
      ],
      "execution_count": null,
      "outputs": [
        {
          "output_type": "stream",
          "name": "stdout",
          "text": [
            "7\n",
            "8\n",
            "10\n",
            "13\n",
            "15\n",
            "19\n",
            "20\n",
            "23\n",
            "25\n",
            "7\n",
            "8\n",
            "10\n",
            "13\n",
            "19\n",
            "20\n",
            "23\n"
          ]
        }
      ]
    },
    {
      "cell_type": "code",
      "metadata": {
        "colab": {
          "base_uri": "https://localhost:8080/"
        },
        "id": "fqo1CKKfA-sN",
        "outputId": "f9a33326-4429-47a6-c5ed-bd73d710f5f7"
      },
      "source": [
        "s = list(input())\n",
        "\n",
        "alphabet = ['a', 'b', 'c', 'd', 'e', 'f', 'g', 'h', 'i', 'j', 'k', 'l', 'm', 'n', 'o', 'p','q','r','s','t','u', 'v', 'w', 'x','y','z']\n",
        "l = []\n",
        "for i in alphabet:\n",
        "  if i in s:\n",
        "    l.append(s.index(i))\n",
        "  else:\n",
        "    l.append(-1)\n",
        "\n",
        "for i in l:\n",
        "  print(i, end =' ')"
      ],
      "execution_count": null,
      "outputs": [
        {
          "output_type": "stream",
          "name": "stdout",
          "text": [
            "baekjoon\n",
            "['b', 'a', 'e', 'k', 'j', 'o', 'o', 'n']\n",
            "1 0 -1 -1 2 -1 -1 -1 -1 4 3 -1 -1 7 5 -1 -1 -1 -1 -1 -1 -1 -1 -1 -1 -1 "
          ]
        }
      ]
    },
    {
      "cell_type": "code",
      "metadata": {
        "colab": {
          "base_uri": "https://localhost:8080/",
          "height": 168
        },
        "id": "S6OD8_qbBeTe",
        "outputId": "fe1a1234-d3fb-4375-b7fa-9d37b7a4d5e1"
      },
      "source": [
        "bl"
      ],
      "execution_count": null,
      "outputs": [
        {
          "output_type": "error",
          "ename": "NameError",
          "evalue": "ignored",
          "traceback": [
            "\u001b[0;31m---------------------------------------------------------------------------\u001b[0m",
            "\u001b[0;31mNameError\u001b[0m                                 Traceback (most recent call last)",
            "\u001b[0;32m<ipython-input-24-51f95b44a7b3>\u001b[0m in \u001b[0;36m<module>\u001b[0;34m()\u001b[0m\n\u001b[0;32m----> 1\u001b[0;31m \u001b[0mbl\u001b[0m\u001b[0;34m\u001b[0m\u001b[0;34m\u001b[0m\u001b[0m\n\u001b[0m",
            "\u001b[0;31mNameError\u001b[0m: name 'bl' is not defined"
          ]
        }
      ]
    },
    {
      "cell_type": "code",
      "metadata": {
        "colab": {
          "base_uri": "https://localhost:8080/"
        },
        "id": "G6ycQKCJBhKi",
        "outputId": "bf2ed4ea-a79e-49ae-dda8-eb00dff3f926"
      },
      "source": [
        "n = int(input())\n",
        "\n",
        "for i in range(n):\n",
        "  l = map(int, input().split())\n",
        "  l2 = []\n",
        "  for j in l:\n",
        "    if j % 2 == 0:\n",
        "      l2.append(j)\n",
        "  \n",
        "  print(sum(l2), min(l2))\n",
        "\n",
        "  "
      ],
      "execution_count": null,
      "outputs": [
        {
          "output_type": "stream",
          "name": "stdout",
          "text": [
            "2\n",
            "1 2 3 4 5 6 7\n",
            "12 2\n",
            "13 78 39 42 54 93 86\n",
            "260 42\n"
          ]
        }
      ]
    },
    {
      "cell_type": "code",
      "metadata": {
        "colab": {
          "base_uri": "https://localhost:8080/"
        },
        "id": "vJF28bViHwVw",
        "outputId": "4573b032-18c8-4fc7-89a3-90959991c632"
      },
      "source": [
        "k = int(input())\n",
        "\n",
        "for i in range(k):\n",
        "  l = list(map(int, input().split()))\n",
        "  l2 = sorted(l[1:], reverse= True)\n",
        "  gap = []\n",
        "  for j in range(len(l2)-1):\n",
        "    gap.append(l2[j] - l2[j+1])\n",
        "  print(\"Class\", i+1)\n",
        "  print(f\"Max {l2[0]}, Min {l2[-1]}, Largest gap {max(gap)}\")"
      ],
      "execution_count": null,
      "outputs": [
        {
          "output_type": "stream",
          "name": "stdout",
          "text": [
            "2\n",
            "5 30 25 76 23 78\n",
            "Class 1\n",
            "Max 78, Min 23, Largest gap 46\n",
            "6 25 50 70 99 70 90\n",
            "Class 2\n",
            "Max 99, Min 25, Largest gap 25\n"
          ]
        }
      ]
    },
    {
      "cell_type": "code",
      "metadata": {
        "colab": {
          "base_uri": "https://localhost:8080/"
        },
        "id": "pVOCwYE8MGgA",
        "outputId": "a7b38788-d28d-4942-ef93-66d544dbfe44"
      },
      "source": [
        "n = int(input())\n",
        "\n",
        "f = [0, 1]\n",
        "for i in range(2, n+1):\n",
        "  f.append(f[i-1] + f[i-2])\n",
        "\n",
        "print(f[n])"
      ],
      "execution_count": null,
      "outputs": [
        {
          "output_type": "stream",
          "name": "stdout",
          "text": [
            "10\n",
            "55\n"
          ]
        }
      ]
    },
    {
      "cell_type": "code",
      "metadata": {
        "colab": {
          "base_uri": "https://localhost:8080/"
        },
        "id": "ENzlKzMENs9R",
        "outputId": "1a9dc0bd-6424-4887-de97-a1da6c231f6e"
      },
      "source": [
        "w = []\n",
        "k = []\n",
        "for i in range(20):\n",
        "  x = int(input())\n",
        "  if i < 10:\n",
        "    w.append(x)\n",
        "  else:\n",
        "    k.append(x)\n",
        "\n",
        "print(sum(sorted(w, reverse=True)[:3]), sum(sorted(k, reverse=True)[:3]))"
      ],
      "execution_count": null,
      "outputs": [
        {
          "output_type": "stream",
          "name": "stdout",
          "text": [
            "23\n",
            "23\n",
            "20\n",
            "15\n",
            "15\n",
            "14\n",
            "13\n",
            "9\n",
            "7\n",
            "6\n",
            "25\n",
            "19\n",
            "17\n",
            "17\n",
            "16\n",
            "13\n",
            "12\n",
            "11\n",
            "9\n",
            "5\n",
            "66 61\n"
          ]
        }
      ]
    },
    {
      "cell_type": "code",
      "metadata": {
        "colab": {
          "base_uri": "https://localhost:8080/"
        },
        "id": "aij-kEd9NvDm",
        "outputId": "180d3175-ce8a-418e-c1e2-45877d303e05"
      },
      "source": [
        "n , k = map(int, input().split())\n",
        "val = []\n",
        "for i in range(n):\n",
        "  val.append(int(input()))\n",
        "\n",
        "total = 0\n",
        "for i in sorted(val, reverse=True):\n",
        "  total += k // i\n",
        "  k = k % i\n",
        "\n",
        "print(total)"
      ],
      "execution_count": null,
      "outputs": [
        {
          "output_type": "stream",
          "name": "stdout",
          "text": [
            "10 4200\n",
            "1\n",
            "5\n",
            "10\n",
            "50\n",
            "100\n",
            "500\n",
            "1000\n",
            "5000\n",
            "10000\n",
            "50000\n",
            "6\n"
          ]
        }
      ]
    },
    {
      "cell_type": "code",
      "metadata": {
        "colab": {
          "base_uri": "https://localhost:8080/"
        },
        "id": "hqXAVz-2VM04",
        "outputId": "d21d21e2-1d94-45c2-a730-a8b4339210ab"
      },
      "source": [
        "print(len(input()))"
      ],
      "execution_count": null,
      "outputs": [
        {
          "output_type": "stream",
          "name": "stdout",
          "text": [
            "pulljima\n",
            "8\n"
          ]
        }
      ]
    },
    {
      "cell_type": "code",
      "metadata": {
        "colab": {
          "base_uri": "https://localhost:8080/"
        },
        "id": "FHLwPGnUuJ2_",
        "outputId": "6f2d2b20-4bce-4f2e-b160-71fc48d30824"
      },
      "source": [
        "s = list(input())\n",
        "\n",
        "low = []\n",
        "up = []\n",
        "for i in range(len(s)):\n",
        "  if s[i] == s[i].lower():\n",
        "    s[i] = s[i].upper()\n",
        "  elif s[i] == s[i].upper():\n",
        "    s[i] = s[i].lower()\n",
        "\n",
        "print(''.join(s))"
      ],
      "execution_count": null,
      "outputs": [
        {
          "output_type": "stream",
          "name": "stdout",
          "text": [
            "WrongAnswer\n",
            "wRONGaNSWER\n"
          ]
        }
      ]
    },
    {
      "cell_type": "code",
      "metadata": {
        "colab": {
          "base_uri": "https://localhost:8080/"
        },
        "id": "dFo22T3zyLgO",
        "outputId": "d318b891-af9b-45e0-e62e-9b2abb9d8b7b"
      },
      "source": [
        "n = int(input())\n",
        "for i in range(5):\n",
        "  a, b = map(int, input().split(','))\n",
        "  print(a + b)\n"
      ],
      "execution_count": null,
      "outputs": [
        {
          "output_type": "stream",
          "name": "stdout",
          "text": [
            "5\n",
            "1,1\n",
            "2\n",
            "2,3\n",
            "5\n",
            "3,4\n",
            "7\n",
            "9,8\n",
            "17\n",
            "5,2\n",
            "7\n"
          ]
        }
      ]
    },
    {
      "cell_type": "code",
      "metadata": {
        "colab": {
          "base_uri": "https://localhost:8080/"
        },
        "id": "a2eKpQbWz8bt",
        "outputId": "9048b8f9-9461-4d23-9936-7612bb7faa45"
      },
      "source": [
        "s = input().split('-')\n",
        "\n",
        "for i in s:\n",
        "  print(i[0], end = '')"
      ],
      "execution_count": null,
      "outputs": [
        {
          "output_type": "stream",
          "name": "stdout",
          "text": [
            "Mirko-Slavko\n",
            "MS"
          ]
        }
      ]
    },
    {
      "cell_type": "code",
      "metadata": {
        "colab": {
          "base_uri": "https://localhost:8080/"
        },
        "id": "-zKfcdS24EHc",
        "outputId": "7fcca698-ba99-47b4-c884-e7e552bbc0f8"
      },
      "source": [
        "def rev(x):\n",
        "  k = list(str(x))[::-1]\n",
        "  return int(''.join(k))\n",
        "\n",
        "x, y = map(int, input().split())\n",
        "print(rev(rev(x) + rev(y)))"
      ],
      "execution_count": null,
      "outputs": [
        {
          "output_type": "stream",
          "name": "stdout",
          "text": [
            "123 100\n",
            "['3', '2', '1']\n",
            "['0', '0', '1']\n",
            "['2', '2', '3']\n",
            "223\n"
          ]
        }
      ]
    },
    {
      "cell_type": "code",
      "metadata": {
        "colab": {
          "base_uri": "https://localhost:8080/"
        },
        "id": "lIz4IDfa-JNJ",
        "outputId": "ca1cc15a-5047-4cce-e26f-a1489d9ee581"
      },
      "source": [
        "s = input()\n",
        "c = 0\n",
        "for i in s:\n",
        "  if i in ['a', 'e', 'i', 'o', 'u']:\n",
        "    c += 1\n",
        "print(c)"
      ],
      "execution_count": null,
      "outputs": [
        {
          "output_type": "stream",
          "name": "stdout",
          "text": [
            "baejoon\n",
            "4\n"
          ]
        }
      ]
    },
    {
      "cell_type": "code",
      "metadata": {
        "colab": {
          "base_uri": "https://localhost:8080/"
        },
        "id": "oPWZup6dAmto",
        "outputId": "6bef6a14-7ca1-444a-a345-565d34105b7c"
      },
      "source": [
        "n = int(input())\n",
        "for i in range(n):\n",
        "  s = input()\n",
        "  print(s[0].upper() + s[1:])"
      ],
      "execution_count": null,
      "outputs": [
        {
          "output_type": "stream",
          "name": "stdout",
          "text": [
            "5\n",
            "powdered Toast Man\n",
            "Powdered Toast Man\n",
            "Skeletor\n",
            "Skeletor\n",
            "she-Ra Princess of Power\n",
            "She-Ra Princess of Power\n",
            "Electra Woman and Dyna Girl\n",
            "Electra Woman and Dyna Girl\n",
            "darth Vader\n",
            "Darth Vader\n"
          ]
        }
      ]
    },
    {
      "cell_type": "code",
      "metadata": {
        "colab": {
          "base_uri": "https://localhost:8080/"
        },
        "id": "lxaaSba-BMWZ",
        "outputId": "761907e7-c74e-43fb-bb6c-1d949e8209cd"
      },
      "source": [
        "print(ord(input()))"
      ],
      "execution_count": null,
      "outputs": [
        {
          "output_type": "stream",
          "name": "stdout",
          "text": [
            "0\n",
            "48\n"
          ]
        }
      ]
    },
    {
      "cell_type": "code",
      "metadata": {
        "colab": {
          "base_uri": "https://localhost:8080/"
        },
        "id": "dYymx2HiC_qH",
        "outputId": "40d7d66b-78e0-40ea-88e4-6b1b5c5cb593"
      },
      "source": [
        "n = int(input())\n",
        "k = map(int,input().replace('0',''))\n",
        "sum = 0\n",
        "for i in k:\n",
        "  sum += i\n",
        "\n",
        "print(sum)"
      ],
      "execution_count": null,
      "outputs": [
        {
          "output_type": "stream",
          "name": "stdout",
          "text": [
            "5\n",
            "54321\n",
            "15\n"
          ]
        }
      ]
    },
    {
      "cell_type": "code",
      "metadata": {
        "colab": {
          "base_uri": "https://localhost:8080/"
        },
        "id": "19wxVxeBGTvu",
        "outputId": "700cd397-b7fc-4791-f596-899ab8b4c686"
      },
      "source": [
        "s = input()\n",
        "for i in range(len(s)):\n",
        "  if (i+1) % 10 == 0 and i > 0:\n",
        "    print(s[i])\n",
        "  else:\n",
        "    print(s[i], end = '')\n",
        "\n",
        "    \n"
      ],
      "execution_count": null,
      "outputs": [
        {
          "output_type": "stream",
          "name": "stdout",
          "text": [
            "OneTwoThreeFourFiveSixSevenEightNineTen\n",
            "OneTwoThre\n",
            "eFourFiveS\n",
            "ixSevenEig\n",
            "htNineTen"
          ]
        }
      ]
    },
    {
      "cell_type": "code",
      "metadata": {
        "colab": {
          "base_uri": "https://localhost:8080/"
        },
        "id": "2noFMPguHEje",
        "outputId": "2dd26765-20ac-42bd-f5dd-6afc2523107a"
      },
      "source": [
        "l = map(int, input().split(','))\n",
        "cnt = 0\n",
        "for i in l:\n",
        "  if type(i) == int:\n",
        "    cnt += 1\n",
        "print(cnt)\n"
      ],
      "execution_count": null,
      "outputs": [
        {
          "output_type": "stream",
          "name": "stdout",
          "text": [
            "10,20,30,50,100\n",
            "5\n"
          ]
        }
      ]
    },
    {
      "cell_type": "code",
      "metadata": {
        "colab": {
          "base_uri": "https://localhost:8080/"
        },
        "id": "MaNgHHK3MiCE",
        "outputId": "3e26c130-d3ff-478c-95f9-fd4de65cbd51"
      },
      "source": [
        "s = list(input())\n",
        "\n",
        "alphabet = ['a', 'b', 'c', 'd', 'e', 'f', 'g', 'h', 'i', 'j', 'k', 'l', 'm', 'n', 'o', 'p','q','r','s','t','u', 'v', 'w', 'x','y','z']\n",
        "l = []\n",
        "cnt = 0\n",
        "for i in alphabet:\n",
        "    l.append(s.count(i))\n",
        "\n",
        "for i in l:\n",
        "  print(i, end =' ')"
      ],
      "execution_count": null,
      "outputs": [
        {
          "output_type": "stream",
          "name": "stdout",
          "text": [
            "baekjoon\n",
            "1 1 0 0 1 0 0 0 0 1 1 0 0 1 2 0 0 0 0 0 0 0 0 0 0 0 "
          ]
        }
      ]
    },
    {
      "cell_type": "code",
      "metadata": {
        "colab": {
          "base_uri": "https://localhost:8080/"
        },
        "id": "K1L9wXbsNVjE",
        "outputId": "a87d020a-dc8a-4b00-fae9-0231f677c1f4"
      },
      "source": [
        "s = list(input().lower())\n",
        "s_set = set(s)\n",
        "dic = {}\n",
        "for i in s_set:\n",
        "  dic[i] = s.count(i)\n",
        "\n",
        "if list(dic.values()).count(max(dic.values())) != 1:\n",
        "  print('?')\n",
        "else:\n",
        "  for key ,value in dic.items():\n",
        "    if value == max(dic.values()):\n",
        "      print(key.upper())"
      ],
      "execution_count": null,
      "outputs": [
        {
          "output_type": "stream",
          "name": "stdout",
          "text": [
            "baaa\n",
            "A\n"
          ]
        }
      ]
    },
    {
      "cell_type": "code",
      "metadata": {
        "colab": {
          "base_uri": "https://localhost:8080/"
        },
        "id": "act0JUD1Ry2q",
        "outputId": "6ff896c7-55e7-4ab9-ad7a-5bbfaf8c6242"
      },
      "source": [
        "t = int(input())\n",
        "\n",
        "for i in range(t):\n",
        "  s1, s2 =map(list, input().split())\n",
        "  l = []\n",
        "  for j in range(len(s1)):\n",
        "    if (ord(s2[j]) - 64) - (ord(s1[j]) - 64) >= 0:\n",
        "      l.append((ord(s2[j]) - 64) - (ord(s1[j]) - 64))\n",
        "    else:\n",
        "      l.append(((ord(s2[j]) - 64) + 26) - (ord(s1[j]) - 64))\n",
        "\n",
        "  print('Distances: ', end='')\n",
        "  for k in l:\n",
        "    print(k , end = ' ')\n",
        "  print()"
      ],
      "execution_count": null,
      "outputs": [
        {
          "output_type": "stream",
          "name": "stdout",
          "text": [
            "5\n",
            "AAAA ABCD\n",
            "Distances: 0 1 2 3 \n",
            "ABCD AAAA\n",
            "Distances: 0 25 24 23 \n",
            "DARK LOKI\n",
            "Distances: 8 14 19 24 \n",
            "STRONG THANOS\n",
            "Distances: 1 14 9 25 1 12 \n",
            "DEADLY ULTIMO\n",
            "Distances: 17 7 19 5 1 16 \n"
          ]
        }
      ]
    },
    {
      "cell_type": "code",
      "metadata": {
        "colab": {
          "base_uri": "https://localhost:8080/"
        },
        "id": "068bFxwbXHs3",
        "outputId": "5ee709c6-9871-4165-d776-931926582484"
      },
      "source": [
        "n = int(input())\n",
        "for i in range(n):\n",
        "  s = input()\n",
        "  print(s[0] + s[-1])"
      ],
      "execution_count": null,
      "outputs": [
        {
          "output_type": "stream",
          "name": "stdout",
          "text": [
            "3\n",
            "ACDKJFOWIEGHE\n",
            "AE\n",
            "O\n",
            "OO\n",
            "AB\n",
            "AB\n"
          ]
        }
      ]
    },
    {
      "cell_type": "code",
      "metadata": {
        "colab": {
          "base_uri": "https://localhost:8080/"
        },
        "id": "ZosQcM2pa5JG",
        "outputId": "f1453186-516f-4520-f3dc-6399ecd2345d"
      },
      "source": [
        "while True:\n",
        "  s = input()\n",
        "  if s == 'END':\n",
        "    break\n",
        "  print(s[::-1])\n"
      ],
      "execution_count": null,
      "outputs": [
        {
          "name": "stdout",
          "output_type": "stream",
          "text": [
            "!edoc doog a tahW\n",
            "What a good code!\n",
            "noitacitsufbo\n",
            "obfustication\n",
            "erafraw enirambus detcirtsernu yraurbeF fo tsrif eht no nigeb ot dnetni eW\n",
            "We intend to begin on the first of February unrestricted submarine warfare\n",
            "lla sees rodroM fo drol eht ,ssertrof sih nihtiw delaecnoC\n",
            "Concealed within his fortress, the lord of Mordor sees all\n",
            "END\n"
          ]
        }
      ]
    },
    {
      "cell_type": "code",
      "metadata": {
        "colab": {
          "base_uri": "https://localhost:8080/"
        },
        "id": "73AzIuh3bdWe",
        "outputId": "a8a9f32e-addb-42da-b46f-e129f8112c6f"
      },
      "source": [
        "n = int(input())\n",
        "for i in range(n):\n",
        "  n, m = map(int, input().split())\n",
        "  cnt = 0\n",
        "  for j in range(n, m+1):\n",
        "    cnt += list(str(j)).count('0')\n",
        "  print(cnt)\n",
        "\n"
      ],
      "execution_count": null,
      "outputs": [
        {
          "output_type": "stream",
          "name": "stdout",
          "text": [
            "3\n",
            "0 10\n",
            "2\n",
            "33 1005\n",
            "199\n",
            "1 4\n",
            "0\n"
          ]
        }
      ]
    },
    {
      "cell_type": "code",
      "metadata": {
        "colab": {
          "base_uri": "https://localhost:8080/"
        },
        "id": "8xFbu8pfcHCe",
        "outputId": "5e059855-0a4d-4ae1-f4d7-a87af8424b27"
      },
      "source": [
        "list(str(123)).count('1')"
      ],
      "execution_count": null,
      "outputs": [
        {
          "output_type": "execute_result",
          "data": {
            "text/plain": [
              "1"
            ]
          },
          "metadata": {},
          "execution_count": 141
        }
      ]
    },
    {
      "cell_type": "code",
      "metadata": {
        "id": "-0-qeOQxcJBl"
      },
      "source": [
        "s = input()"
      ],
      "execution_count": null,
      "outputs": []
    },
    {
      "cell_type": "code",
      "metadata": {
        "colab": {
          "base_uri": "https://localhost:8080/",
          "height": 35
        },
        "id": "atyxs_xaemIj",
        "outputId": "a28fe6e3-ea77-419d-8a74-01cb6d8a167e"
      },
      "source": [
        "'aaa2'.upper()"
      ],
      "execution_count": null,
      "outputs": [
        {
          "output_type": "execute_result",
          "data": {
            "application/vnd.google.colaboratory.intrinsic+json": {
              "type": "string"
            },
            "text/plain": [
              "'AAA2'"
            ]
          },
          "metadata": {},
          "execution_count": 145
        }
      ]
    },
    {
      "cell_type": "code",
      "metadata": {
        "colab": {
          "base_uri": "https://localhost:8080/"
        },
        "id": "DPWnvG0jemD0",
        "outputId": "d78d6ca4-d09d-4b8d-a044-8852199ebccb"
      },
      "source": [
        "low = ['a','b','c','d','e','f','g','h','i','j','k','l','m','n','o','p','q','r','s','t','u','v','w','x','y','z']\n",
        "up = list(''.join(low).upper())\n",
        "\n",
        "s = list(input())\n",
        "for i in s:\n",
        "  if i in low:\n",
        "    if (ord(i) + 13) > 122:\n",
        "      print(chr(ord(i) + 13 - 26) , end = '')\n",
        "    else:\n",
        "      print(chr(ord(i) + 13) , end = '')\n",
        "  elif i in up:\n",
        "    if (ord(i) + 13) > 90:\n",
        "      print(chr(ord(i) + 13 - 26) , end = '')\n",
        "    else:\n",
        "      print(chr(ord(i) + 13) , end = '')\n",
        "\n",
        "  else:\n",
        "    print(i , end = '')\n"
      ],
      "execution_count": null,
      "outputs": [
        {
          "output_type": "stream",
          "name": "stdout",
          "text": [
            "One is 1\n",
            "Bar vf 1"
          ]
        }
      ]
    },
    {
      "cell_type": "code",
      "metadata": {
        "colab": {
          "base_uri": "https://localhost:8080/"
        },
        "id": "0tkSS0RsgN9e",
        "outputId": "ba455b8f-94df-4384-e13b-dd15d102efc0"
      },
      "source": [
        "n = int(input())\n",
        "k = 1\n",
        "for i in range(1, n+1):\n",
        "  k *= i\n",
        "cnt = 0\n",
        "for i in str(k)[::-1]:\n",
        "  if i == '0':\n",
        "    cnt += 1\n",
        "  else:\n",
        "    break\n",
        "print(cnt)"
      ],
      "execution_count": null,
      "outputs": [
        {
          "output_type": "stream",
          "name": "stdout",
          "text": [
            "3\n",
            "0\n"
          ]
        }
      ]
    },
    {
      "cell_type": "code",
      "metadata": {
        "colab": {
          "base_uri": "https://localhost:8080/",
          "height": 35
        },
        "id": "Dtl8wtEHgZz0",
        "outputId": "cf0ac871-3726-4719-99d1-d61d670caa2a"
      },
      "source": [
        "str(k)[::-1]"
      ],
      "execution_count": null,
      "outputs": [
        {
          "output_type": "execute_result",
          "data": {
            "application/vnd.google.colaboratory.intrinsic+json": {
              "type": "string"
            },
            "text/plain": [
              "'0088263'"
            ]
          },
          "metadata": {},
          "execution_count": 163
        }
      ]
    },
    {
      "cell_type": "code",
      "metadata": {
        "colab": {
          "base_uri": "https://localhost:8080/"
        },
        "id": "b3YOFte7nXa5",
        "outputId": "3db97560-f5ac-4b47-e852-74b2eebda60f"
      },
      "source": [
        "a = [1,2,3]\n",
        "a.reverse()\n",
        "print(a)"
      ],
      "execution_count": null,
      "outputs": [
        {
          "output_type": "stream",
          "name": "stdout",
          "text": [
            "[3, 2, 1]\n"
          ]
        }
      ]
    },
    {
      "cell_type": "code",
      "metadata": {
        "colab": {
          "base_uri": "https://localhost:8080/"
        },
        "id": "s_ngc9orEKFQ",
        "outputId": "602f4552-4a58-4a37-bdce-683d7573e7c0"
      },
      "source": [
        "def prime_list(n):\n",
        "  a = [True] * n\n",
        "\n",
        "  b = int( n ** 0.5)\n",
        "\n",
        "  for i in range(2, b+1):\n",
        "    if a[i] == True:\n",
        "      for j in range(i + i , n, i):\n",
        "        a[j] = False\n",
        "\n",
        "  return [i for i in range(2, n) if a[i] == True]\n",
        "\n",
        "prime_list(1000000)[-1]"
      ],
      "execution_count": null,
      "outputs": [
        {
          "output_type": "execute_result",
          "data": {
            "text/plain": [
              "999983"
            ]
          },
          "metadata": {},
          "execution_count": 24
        }
      ]
    },
    {
      "cell_type": "code",
      "metadata": {
        "colab": {
          "base_uri": "https://localhost:8080/"
        },
        "id": "KdUGDHaPpqio",
        "outputId": "672e3b9a-5dda-4514-cf78-aa6710c4661b"
      },
      "source": [
        "import math\n",
        "n = int(input())\n",
        "\n",
        "def prime_func(n):\n",
        "  for i in range(2,  int(math.sqrt(n) + 1)):\n",
        "    if n % i == 0:\n",
        "      return False\n",
        "  \n",
        "  return True\n",
        "\n",
        "def pal_func(n):\n",
        "  if str(n) == str(n)[::-1]:\n",
        "    return True\n",
        "  \n",
        "  return False\n",
        "\n",
        "while True:\n",
        "  if pal_func(n) == True and prime_func(n) == True and n > 1:\n",
        "    break\n",
        "  else:\n",
        "    n += 1\n",
        "\n",
        "print(n)\n"
      ],
      "execution_count": null,
      "outputs": [
        {
          "output_type": "stream",
          "name": "stdout",
          "text": [
            "1\n",
            "2\n"
          ]
        }
      ]
    },
    {
      "cell_type": "code",
      "metadata": {
        "id": "yw_cXdXftZte"
      },
      "source": [
        ""
      ],
      "execution_count": null,
      "outputs": []
    }
  ]
}