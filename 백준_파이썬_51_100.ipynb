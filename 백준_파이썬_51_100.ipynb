{
  "nbformat": 4,
  "nbformat_minor": 0,
  "metadata": {
    "colab": {
      "name": "백준 파이썬 51 - 100",
      "provenance": [],
      "collapsed_sections": [],
      "authorship_tag": "ABX9TyODYTODCXhcg5bSOBWwun30",
      "include_colab_link": true
    },
    "kernelspec": {
      "name": "python3",
      "display_name": "Python 3"
    },
    "language_info": {
      "name": "python"
    }
  },
  "cells": [
    {
      "cell_type": "markdown",
      "metadata": {
        "id": "view-in-github",
        "colab_type": "text"
      },
      "source": [
        "<a href=\"https://colab.research.google.com/github/ejrtks1020/baekjoon_practice/blob/main/%EB%B0%B1%EC%A4%80_%ED%8C%8C%EC%9D%B4%EC%8D%AC_51_100.ipynb\" target=\"_parent\"><img src=\"https://colab.research.google.com/assets/colab-badge.svg\" alt=\"Open In Colab\"/></a>"
      ]
    },
    {
      "cell_type": "code",
      "metadata": {
        "colab": {
          "base_uri": "https://localhost:8080/"
        },
        "id": "rhRMZSXZ00DN",
        "outputId": "e6584581-af22-4dd8-b627-c563c26e1af3"
      },
      "source": [
        "#5\n",
        "n = int(input())\n",
        "\n",
        "for i in range(n):\n",
        "  print(i + 1)"
      ],
      "execution_count": null,
      "outputs": [
        {
          "output_type": "stream",
          "name": "stdout",
          "text": [
            "5\n",
            "1\n",
            "2\n",
            "3\n",
            "4\n",
            "5\n"
          ]
        }
      ]
    },
    {
      "cell_type": "code",
      "metadata": {
        "colab": {
          "base_uri": "https://localhost:8080/"
        },
        "id": "Fya0d9C_1CFC",
        "outputId": "7e8fcee2-bea9-47c5-8814-e308c3466228"
      },
      "source": [
        "#6\n",
        "n = int(input())\n",
        "\n",
        "for i in range(n, 0, -1):\n",
        "  print(i)"
      ],
      "execution_count": null,
      "outputs": [
        {
          "output_type": "stream",
          "name": "stdout",
          "text": [
            "5\n",
            "5\n",
            "4\n",
            "3\n",
            "2\n",
            "1\n"
          ]
        }
      ]
    },
    {
      "cell_type": "code",
      "metadata": {
        "colab": {
          "base_uri": "https://localhost:8080/"
        },
        "id": "J42oZ29q1eEL",
        "outputId": "dcaf58bd-5fd3-484a-b699-c4cf4ec4c143"
      },
      "source": [
        "#7\n",
        "n = int(input())\n",
        "\n",
        "for i in range(9):\n",
        "  print(f'{n} * {i+1} = {n * (i + 1)}')"
      ],
      "execution_count": null,
      "outputs": [
        {
          "output_type": "stream",
          "name": "stdout",
          "text": [
            "9\n",
            "9 * 1 = 9\n",
            "9 * 2 = 18\n",
            "9 * 3 = 27\n",
            "9 * 4 = 36\n",
            "9 * 5 = 45\n",
            "9 * 6 = 54\n",
            "9 * 7 = 63\n",
            "9 * 8 = 72\n",
            "9 * 9 = 81\n"
          ]
        }
      ]
    },
    {
      "cell_type": "code",
      "metadata": {
        "colab": {
          "base_uri": "https://localhost:8080/"
        },
        "id": "fzy4P_DH2Gwi",
        "outputId": "986a7e47-7995-480c-e11a-7716cfe9590d"
      },
      "source": [
        "#8\n",
        "n = int(input())\n",
        "\n",
        "for i in range(n):\n",
        "  print('*' * (i + 1))"
      ],
      "execution_count": null,
      "outputs": [
        {
          "output_type": "stream",
          "name": "stdout",
          "text": [
            "5\n",
            "*\n",
            "**\n",
            "***\n",
            "****\n",
            "*****\n"
          ]
        }
      ]
    },
    {
      "cell_type": "code",
      "metadata": {
        "colab": {
          "base_uri": "https://localhost:8080/"
        },
        "id": "OdzKjt6f2dP7",
        "outputId": "72b905b8-9a85-4f99-8d1d-1c1db0214925"
      },
      "source": [
        "#9\n",
        "n = int(input())\n",
        "\n",
        "for i in range(n):\n",
        "  print(' ' * (n-(i+1)) + '*' * (i+1))"
      ],
      "execution_count": null,
      "outputs": [
        {
          "output_type": "stream",
          "name": "stdout",
          "text": [
            "5\n",
            "    *\n",
            "   **\n",
            "  ***\n",
            " ****\n",
            "*****\n"
          ]
        }
      ]
    },
    {
      "cell_type": "code",
      "metadata": {
        "colab": {
          "base_uri": "https://localhost:8080/"
        },
        "id": "hTjsBe8l3iRw",
        "outputId": "5315f368-af2b-4167-9fd5-81174104aa41"
      },
      "source": [
        "#10\n",
        "n = int(input())\n",
        "\n",
        "for i in range(n):\n",
        "  print('*' * (n - i))"
      ],
      "execution_count": null,
      "outputs": [
        {
          "output_type": "stream",
          "name": "stdout",
          "text": [
            "5\n",
            "*****\n",
            "****\n",
            "***\n",
            "**\n",
            "*\n"
          ]
        }
      ]
    },
    {
      "cell_type": "code",
      "metadata": {
        "colab": {
          "base_uri": "https://localhost:8080/"
        },
        "id": "TwjM06Xq3zbY",
        "outputId": "609ccbed-159e-42f1-eb1c-7bc380e6ca18"
      },
      "source": [
        "#11\n",
        "n = int(input())\n",
        "\n",
        "for i in range(n):\n",
        "  print(' ' * i +  '*' * (n - i))"
      ],
      "execution_count": null,
      "outputs": [
        {
          "output_type": "stream",
          "name": "stdout",
          "text": [
            "5\n",
            "*****\n",
            " ****\n",
            "  ***\n",
            "   **\n",
            "    *\n"
          ]
        }
      ]
    },
    {
      "cell_type": "code",
      "metadata": {
        "colab": {
          "base_uri": "https://localhost:8080/"
        },
        "id": "PVf-LKWo4XHA",
        "outputId": "cbdb847a-d5f1-44e8-8b6d-0568f74849bf"
      },
      "source": [
        "#12\n",
        "n = int(input())\n",
        "x = 0\n",
        "\n",
        "for i in range(n):\n",
        "  x += i+1\n",
        "print(x)"
      ],
      "execution_count": null,
      "outputs": [
        {
          "output_type": "stream",
          "name": "stdout",
          "text": [
            "3\n",
            "6\n"
          ]
        }
      ]
    },
    {
      "cell_type": "code",
      "metadata": {
        "colab": {
          "base_uri": "https://localhost:8080/"
        },
        "id": "8VqcPCTD4slD",
        "outputId": "fcae5d5d-ae2b-4039-f7da-c80ff1365dc7"
      },
      "source": [
        "#13\n",
        "a, b = map(int, input().split())\n",
        "l = []\n",
        "for i in range(1, min(a,b)+1):\n",
        "  if a % i == 0 and b % i == 0:\n",
        "    l.append(i)\n",
        "print(max(l))\n",
        "\n",
        "k = 1\n",
        "while True:\n",
        "  if (a * k) % b == 0:\n",
        "    break\n",
        "  k += 1\n",
        "\n",
        "print(a * k)\n",
        "  "
      ],
      "execution_count": null,
      "outputs": [
        {
          "output_type": "stream",
          "name": "stdout",
          "text": [
            "24 18\n",
            "6\n",
            "72\n"
          ]
        }
      ]
    },
    {
      "cell_type": "code",
      "metadata": {
        "colab": {
          "base_uri": "https://localhost:8080/"
        },
        "id": "ejPAUHA47e82",
        "outputId": "082823a2-8af9-480a-9813-c0892372b8cc"
      },
      "source": [
        "#14\n",
        "n =  int(input())\n",
        "arr = [0, 1]\n",
        "for i in range(2, n+1):\n",
        "  arr.append(arr[i-2] + arr[i-1])\n",
        "\n",
        "print(arr[n])"
      ],
      "execution_count": null,
      "outputs": [
        {
          "output_type": "stream",
          "name": "stdout",
          "text": [
            "90\n",
            "2880067194370816120\n"
          ]
        }
      ]
    },
    {
      "cell_type": "code",
      "metadata": {
        "colab": {
          "base_uri": "https://localhost:8080/"
        },
        "id": "zN0G8XwI-g--",
        "outputId": "2d88ba7b-8f86-4072-eea5-b6fc253e390c"
      },
      "source": [
        "#15\n",
        "price = int(input())\n",
        "l = []\n",
        "for i in range(9):\n",
        "  l.append(int(input()))\n",
        "\n",
        "print(price - sum(l))"
      ],
      "execution_count": null,
      "outputs": [
        {
          "output_type": "stream",
          "name": "stdout",
          "text": [
            "9850\n",
            "1050\n",
            "800\n",
            "420\n",
            "380\n",
            "600\n",
            "820\n",
            "2400\n",
            "1800\n",
            "980\n",
            "600\n"
          ]
        }
      ]
    },
    {
      "cell_type": "code",
      "metadata": {
        "colab": {
          "base_uri": "https://localhost:8080/"
        },
        "id": "9COjEcygQhBu",
        "outputId": "1fd8d619-5e99-4d91-93f9-f628c105f1be"
      },
      "source": [
        "#16\n",
        "n = int(input())\n",
        "l = []\n",
        "for i in range(n):\n",
        "  a, b = map(int, input().split())\n",
        "  l.append(a + b)\n",
        "\n",
        "for i in range(len(l)):\n",
        "  print(l[i])\n"
      ],
      "execution_count": null,
      "outputs": [
        {
          "output_type": "stream",
          "name": "stdout",
          "text": [
            "5\n",
            "1 1\n",
            "2 3\n",
            "3 4\n",
            "9 8\n",
            "5 2\n",
            "2\n",
            "5\n",
            "7\n",
            "17\n",
            "7\n"
          ]
        }
      ]
    },
    {
      "cell_type": "code",
      "metadata": {
        "colab": {
          "base_uri": "https://localhost:8080/"
        },
        "id": "A5FLOIBhSblP",
        "outputId": "cfb7d70c-dc7f-48a6-9969-8d0d9772eb48"
      },
      "source": [
        "#17\n",
        "l = []\n",
        "while True:\n",
        "  a, b = map(int, input().split())\n",
        "  if a == 0 and b == 0:\n",
        "    break\n",
        "  \n",
        "  l.append(a+b)\n",
        "\n",
        "for i in range(len(l)):\n",
        "  print(l[i])\n",
        "  \n"
      ],
      "execution_count": null,
      "outputs": [
        {
          "output_type": "stream",
          "name": "stdout",
          "text": [
            "1 1\n",
            "2 3\n",
            "3 4\n",
            "9 8\n",
            "5 2\n",
            "0 0\n",
            "2\n",
            "5\n",
            "7\n",
            "17\n",
            "7\n"
          ]
        }
      ]
    },
    {
      "cell_type": "code",
      "metadata": {
        "colab": {
          "base_uri": "https://localhost:8080/"
        },
        "id": "quq2Fn0fTy0N",
        "outputId": "7f06d46a-4d72-43a4-fae9-91de39115079"
      },
      "source": [
        "n = int(input())\n",
        "l0 = []\n",
        "l1 = []\n",
        "for i in range(n):\n",
        "  m = int(input())\n",
        "  l2 = []\n",
        "  l3 = []\n",
        "\n",
        "  for j in range(m):\n",
        "    a, b = map(float, input().split())\n",
        "    l2.append(a * b)\n",
        "    l3.append(a)\n",
        "  \n",
        "  l0.append(int(sum(l3)))\n",
        "  l1.append( round(sum(l2) / sum(l3), 1) )\n",
        "\n",
        "for total , gpa in zip(l0, l1):\n",
        "  print(total , gpa)\n",
        "\n",
        "  \n"
      ],
      "execution_count": null,
      "outputs": [
        {
          "output_type": "stream",
          "name": "stdout",
          "text": [
            "2\n",
            "4\n",
            "3 4.3\n",
            "2 2\n",
            "4 0.0\n",
            "2 4.0\n",
            "3\n",
            "4 0.0\n",
            "4 0\n",
            "3 0\n",
            "11 2.3\n",
            "11 0.0\n"
          ]
        }
      ]
    },
    {
      "cell_type": "code",
      "metadata": {
        "colab": {
          "base_uri": "https://localhost:8080/"
        },
        "id": "EVi-SpSsrvcf",
        "outputId": "29edb19a-12ea-4b24-b115-180b17882da7"
      },
      "source": [
        "n = int(input())\n",
        "x = 0\n",
        "for i in range(n):\n",
        "  a, b = map(int, input().split())\n",
        "  x += b % a\n",
        "\n",
        "print(x)"
      ],
      "execution_count": null,
      "outputs": [
        {
          "output_type": "stream",
          "name": "stdout",
          "text": [
            "5\n",
            "24 52\n",
            "13 22\n",
            "5 53\n",
            "23 10\n",
            "7 70\n",
            "26\n"
          ]
        }
      ]
    },
    {
      "cell_type": "code",
      "metadata": {
        "colab": {
          "base_uri": "https://localhost:8080/"
        },
        "id": "Smi0P7Df6hmx",
        "outputId": "6f9c7a4b-eaa8-407b-d100-6fd028b7c06f"
      },
      "source": [
        "n = int(input())\n",
        "for i in range(n):\n",
        "  print(' ' * (n-i-1) + '*' * (2 * i + 1))\n"
      ],
      "execution_count": null,
      "outputs": [
        {
          "output_type": "stream",
          "name": "stdout",
          "text": [
            "5\n",
            "    *\n",
            "   ***\n",
            "  *****\n",
            " *******\n",
            "*********\n"
          ]
        }
      ]
    },
    {
      "cell_type": "code",
      "metadata": {
        "colab": {
          "base_uri": "https://localhost:8080/"
        },
        "id": "Mo5C6BaaAoJg",
        "outputId": "487df225-adab-43ce-ec5d-3adcfeac0634"
      },
      "source": [
        "n = int(input())\n",
        "for i in range(n):\n",
        "  print(' ' * i + '*' * ((2 * n - 1) - 2 * i))"
      ],
      "execution_count": null,
      "outputs": [
        {
          "output_type": "stream",
          "name": "stdout",
          "text": [
            "5\n",
            "*********\n",
            " *******\n",
            "  *****\n",
            "   ***\n",
            "    *\n"
          ]
        }
      ]
    },
    {
      "cell_type": "code",
      "metadata": {
        "colab": {
          "base_uri": "https://localhost:8080/"
        },
        "id": "G0soui2eA1hm",
        "outputId": "ea305027-20ab-4f5f-8cba-f9db196e644f"
      },
      "source": [
        "n = int(input())\n",
        "for i in range(n):\n",
        "  print(' ' * (n-i-1) + '*' * (2 * i + 1))\n",
        "\n",
        "for i in range(1, n):\n",
        "  print(' ' * i + '*' * ((2 * n - 1) - 2 * i))"
      ],
      "execution_count": null,
      "outputs": [
        {
          "output_type": "stream",
          "name": "stdout",
          "text": [
            "5\n",
            "    *\n",
            "   ***\n",
            "  *****\n",
            " *******\n",
            "*********\n",
            " *******\n",
            "  *****\n",
            "   ***\n",
            "    *\n"
          ]
        }
      ]
    },
    {
      "cell_type": "code",
      "metadata": {
        "colab": {
          "base_uri": "https://localhost:8080/"
        },
        "id": "61g75cDKJXqj",
        "outputId": "ed4d9724-1356-4364-e77b-044fbfd27721"
      },
      "source": [
        "n = int(input())\n",
        "\n",
        "for i in range(n):\n",
        "  print(' ' * (n-1-i) + '*' * (i + 1))\n",
        "\n",
        "for i in range(1, n):\n",
        "  print(' ' * i + '*' * (n - i))"
      ],
      "execution_count": null,
      "outputs": [
        {
          "output_type": "stream",
          "name": "stdout",
          "text": [
            "5\n",
            "    *\n",
            "   **\n",
            "  ***\n",
            " ****\n",
            "*****\n",
            " ****\n",
            "  ***\n",
            "   **\n",
            "    *\n"
          ]
        }
      ]
    },
    {
      "cell_type": "code",
      "metadata": {
        "colab": {
          "base_uri": "https://localhost:8080/"
        },
        "id": "q4ag0Nz9K1ox",
        "outputId": "cd4c5112-c2d2-4f8d-9d89-56a49d361397"
      },
      "source": [
        "n = int(input())\n",
        "\n",
        "for i in range(n):\n",
        "  print( '*' * (i + 1))\n",
        "\n",
        "for i in range(1, n):\n",
        "  print('*' * (n-i))"
      ],
      "execution_count": null,
      "outputs": [
        {
          "output_type": "stream",
          "name": "stdout",
          "text": [
            "3\n",
            "*\n",
            "**\n",
            "***\n",
            "**\n",
            "*\n"
          ]
        }
      ]
    },
    {
      "cell_type": "code",
      "metadata": {
        "colab": {
          "base_uri": "https://localhost:8080/"
        },
        "id": "KSjFJVgNLzWQ",
        "outputId": "5b1e5b37-5301-4714-fa9f-0cf91f8b01a2"
      },
      "source": [
        "n = int(input())\n",
        "l = []\n",
        "for i in range(n):\n",
        "  price = int(input())\n",
        "  options = int(input())\n",
        "  opt_price = []\n",
        "\n",
        "  for j in range(options):\n",
        "    p, q = map(int, input().split())\n",
        "    opt_price.append(p * q)\n",
        "  \n",
        "  l.append(price + sum(opt_price))\n",
        "\n",
        "for i in l:\n",
        "  print(i)\n",
        "\n"
      ],
      "execution_count": null,
      "outputs": [
        {
          "output_type": "stream",
          "name": "stdout",
          "text": [
            "2\n",
            "10000\n",
            "2\n",
            "1 2000\n",
            "3 400\n",
            "50000\n",
            "0\n",
            "13200\n",
            "50000\n"
          ]
        }
      ]
    },
    {
      "cell_type": "code",
      "metadata": {
        "colab": {
          "base_uri": "https://localhost:8080/"
        },
        "id": "S6O8E9njN1lh",
        "outputId": "f2b58d19-64cc-4301-8290-9a133b3906f0"
      },
      "source": [
        "n = int(input())\n",
        "for i in range(n):\n",
        "  print('*' * (1 + i) + ' ' * (2 * n - 2 * (i + 1)) + '*' * (1 + i))\n",
        "\n",
        "for i in range(n):\n",
        "  print('*' * (n - (i + 1)) + ' ' * ( 2 * i + 2) + '*' * (n - (1 + i)))"
      ],
      "execution_count": null,
      "outputs": [
        {
          "output_type": "stream",
          "name": "stdout",
          "text": [
            "5\n",
            "*        *\n",
            "**      **\n",
            "***    ***\n",
            "****  ****\n",
            "**********\n",
            "****  ****\n",
            "***    ***\n",
            "**      **\n",
            "*        *\n",
            "          \n"
          ]
        }
      ]
    },
    {
      "cell_type": "code",
      "metadata": {
        "colab": {
          "base_uri": "https://localhost:8080/"
        },
        "id": "-9qNCHAlPSyI",
        "outputId": "3e523f07-d611-46d5-ab2b-593a2bf5276d"
      },
      "source": [
        "n = int(input())\n",
        "for i in range(n):\n",
        "  print(' ' * i + '*' * (2*n-1 - 2 * i))\n",
        "\n",
        "for i in range(n-1):\n",
        "  print(' ' * (n-2 - i) + '*' * (2 * i + 3))"
      ],
      "execution_count": null,
      "outputs": [
        {
          "output_type": "stream",
          "name": "stdout",
          "text": [
            "9\n",
            "*****************\n",
            " ***************\n",
            "  *************\n",
            "   ***********\n",
            "    *********\n",
            "     *******\n",
            "      *****\n",
            "       ***\n",
            "        *\n",
            "       ***\n",
            "      *****\n",
            "     *******\n",
            "    *********\n",
            "   ***********\n",
            "  *************\n",
            " ***************\n",
            "*****************\n"
          ]
        }
      ]
    },
    {
      "cell_type": "code",
      "metadata": {
        "colab": {
          "base_uri": "https://localhost:8080/",
          "height": 238
        },
        "id": "-7lZ2M3eVjpH",
        "outputId": "77668380-1465-44c3-f9a7-0a5462d2c18f"
      },
      "source": [
        "import sys\n",
        "n = int(sys.stdin.readline())\n",
        "\n",
        "sum = 0\n",
        "for i in range(n):\n",
        "  m = int(input())\n",
        "  sum += m\n",
        "\n",
        "print(sum - (n-1)) \n"
      ],
      "execution_count": null,
      "outputs": [
        {
          "output_type": "error",
          "ename": "ValueError",
          "evalue": "ignored",
          "traceback": [
            "\u001b[0;31m---------------------------------------------------------------------------\u001b[0m",
            "\u001b[0;31mValueError\u001b[0m                                Traceback (most recent call last)",
            "\u001b[0;32m<ipython-input-1-5e8df386bd69>\u001b[0m in \u001b[0;36m<module>\u001b[0;34m()\u001b[0m\n\u001b[1;32m      1\u001b[0m \u001b[0;32mimport\u001b[0m \u001b[0msys\u001b[0m\u001b[0;34m\u001b[0m\u001b[0;34m\u001b[0m\u001b[0m\n\u001b[0;32m----> 2\u001b[0;31m \u001b[0mn\u001b[0m \u001b[0;34m=\u001b[0m \u001b[0mint\u001b[0m\u001b[0;34m(\u001b[0m\u001b[0msys\u001b[0m\u001b[0;34m.\u001b[0m\u001b[0mstdin\u001b[0m\u001b[0;34m.\u001b[0m\u001b[0mreadline\u001b[0m\u001b[0;34m(\u001b[0m\u001b[0;34m)\u001b[0m\u001b[0;34m)\u001b[0m\u001b[0;34m\u001b[0m\u001b[0;34m\u001b[0m\u001b[0m\n\u001b[0m\u001b[1;32m      3\u001b[0m \u001b[0;34m\u001b[0m\u001b[0m\n\u001b[1;32m      4\u001b[0m \u001b[0ml\u001b[0m \u001b[0;34m=\u001b[0m \u001b[0;34m[\u001b[0m\u001b[0;34m]\u001b[0m\u001b[0;34m\u001b[0m\u001b[0;34m\u001b[0m\u001b[0m\n\u001b[1;32m      5\u001b[0m \u001b[0;32mfor\u001b[0m \u001b[0mi\u001b[0m \u001b[0;32min\u001b[0m \u001b[0mrange\u001b[0m\u001b[0;34m(\u001b[0m\u001b[0mn\u001b[0m\u001b[0;34m)\u001b[0m\u001b[0;34m:\u001b[0m\u001b[0;34m\u001b[0m\u001b[0;34m\u001b[0m\u001b[0m\n",
            "\u001b[0;31mValueError\u001b[0m: invalid literal for int() with base 10: ''"
          ]
        }
      ]
    },
    {
      "cell_type": "code",
      "metadata": {
        "id": "_MMbdk1sXyrm",
        "colab": {
          "base_uri": "https://localhost:8080/"
        },
        "outputId": "15bb5a7a-d8c5-48fa-dfb7-20780e52cf39"
      },
      "source": [
        "total = 0\n",
        "for i in range(5):\n",
        "  n = int(input())\n",
        "  total += n\n",
        "\n",
        "print(total)\n"
      ],
      "execution_count": null,
      "outputs": [
        {
          "output_type": "stream",
          "name": "stdout",
          "text": [
            "1\n",
            "2\n",
            "3\n",
            "4\n",
            "5\n",
            "15\n"
          ]
        }
      ]
    },
    {
      "cell_type": "code",
      "metadata": {
        "colab": {
          "base_uri": "https://localhost:8080/"
        },
        "id": "dr_KwVz395U-",
        "outputId": "7fdc10d3-fc5f-42d2-ec9d-f888b3e18dc4"
      },
      "source": [
        "n = int(input())\n",
        "\n",
        "for i in range(n):\n",
        "  total_candy , sons = map(int, input().split())\n",
        "  print(f'You get {total_candy // sons} piece(s) and your dad gets {total_candy % sons} piece(s).')"
      ],
      "execution_count": null,
      "outputs": [
        {
          "output_type": "stream",
          "name": "stdout",
          "text": [
            "1\n",
            "10 3\n",
            "You get 3 piece(s) and your dad gets 1 piece(s).\n"
          ]
        }
      ]
    },
    {
      "cell_type": "code",
      "metadata": {
        "colab": {
          "base_uri": "https://localhost:8080/"
        },
        "id": "9ETe_mTMInXJ",
        "outputId": "ed52e532-2316-4f02-fd2d-0a69a7dbf098"
      },
      "source": [
        "n = int(input())\n",
        "for i in range(n):\n",
        "  a, b = map(int, input().split())\n",
        "  print(f'Case {i+1}: {a+b}')"
      ],
      "execution_count": null,
      "outputs": [
        {
          "output_type": "stream",
          "name": "stdout",
          "text": [
            "5\n",
            "1 2\n",
            "Case 1: 3\n",
            "3 5\n",
            "Case 2: 8\n",
            "2 2\n",
            "Case 3: 4\n",
            "3 3\n",
            "Case 4: 6\n",
            "4 4\n",
            "Case 5: 8\n"
          ]
        }
      ]
    },
    {
      "cell_type": "code",
      "metadata": {
        "colab": {
          "base_uri": "https://localhost:8080/"
        },
        "id": "F7g-xqnIJn3W",
        "outputId": "64607c36-c336-47a0-e473-5043e390e015"
      },
      "source": [
        "n = int(input())\n",
        "for i in range(n):\n",
        "  a, b = map(int, input().split())\n",
        "  print(b+2-a)"
      ],
      "execution_count": null,
      "outputs": [
        {
          "output_type": "stream",
          "name": "stdout",
          "text": [
            "2\n",
            "8 12\n",
            "6\n",
            "4 6\n",
            "4\n"
          ]
        }
      ]
    },
    {
      "cell_type": "code",
      "metadata": {
        "colab": {
          "base_uri": "https://localhost:8080/"
        },
        "id": "OOur13R7KfkQ",
        "outputId": "ba240560-8711-49db-81a2-3b4ea8c4c976"
      },
      "source": [
        "n = int(input())\n",
        "def f(n):\n",
        "  if n == 1:\n",
        "    return 3\n",
        "  return int(f(n-1) + n * (n + 1) + n * (n+1)/2)\n",
        "\n",
        "print(f(n))\n",
        "#3 - 9 - 12 -18- 30\n",
        "\n",
        "\n"
      ],
      "execution_count": null,
      "outputs": [
        {
          "output_type": "stream",
          "name": "stdout",
          "text": [
            "3\n",
            "30\n"
          ]
        }
      ]
    },
    {
      "cell_type": "code",
      "metadata": {
        "colab": {
          "base_uri": "https://localhost:8080/"
        },
        "id": "sIWGVvr2PNP-",
        "outputId": "7528c7f6-069e-4f2f-900d-f4c83dbf6558"
      },
      "source": [
        "n = int(input())\n",
        "\n",
        "for i in range(n):\n",
        "  s = '*' * n\n",
        "  if i % 2 == 1:\n",
        "    print(' ' + ' '.join(s))\n",
        "  else:\n",
        "    print(' '.join(s))"
      ],
      "execution_count": null,
      "outputs": [
        {
          "output_type": "stream",
          "name": "stdout",
          "text": [
            "5\n",
            "* * * * *\n",
            " * * * * *\n",
            "* * * * *\n",
            " * * * * *\n",
            "* * * * *\n"
          ]
        }
      ]
    },
    {
      "cell_type": "code",
      "metadata": {
        "colab": {
          "base_uri": "https://localhost:8080/"
        },
        "id": "kX9eOA_zWhJK",
        "outputId": "16fdb092-dd65-49f3-aec2-3c228e960924"
      },
      "source": [
        "n = int(input())\n",
        "for i in range(n):\n",
        "  print(' ' * (n-1-i) + ' '.join('*' * (i + 1)))"
      ],
      "execution_count": null,
      "outputs": [
        {
          "output_type": "stream",
          "name": "stdout",
          "text": [
            "3\n",
            "  *\n",
            " * *\n",
            "* * *\n"
          ]
        }
      ]
    },
    {
      "cell_type": "code",
      "metadata": {
        "colab": {
          "base_uri": "https://localhost:8080/"
        },
        "id": "CX_hXF7_Zkaa",
        "outputId": "c722ea19-52f5-4e24-facb-bea9487f0d86"
      },
      "source": [
        "n, x = map(int, input().split())\n",
        "l = map(int, input().split())\n",
        "k = []\n",
        "for i in l:\n",
        "  if i < x:\n",
        "    print(i, end =' ')\n"
      ],
      "execution_count": null,
      "outputs": [
        {
          "output_type": "stream",
          "name": "stdout",
          "text": [
            "10 5\n",
            "1 10 4 9 2 3 8 5 7 6\n",
            "1423"
          ]
        }
      ]
    },
    {
      "cell_type": "code",
      "metadata": {
        "colab": {
          "base_uri": "https://localhost:8080/"
        },
        "id": "Z4KG4gv5aptb",
        "outputId": "6ccd5e1d-814b-4d42-fa59-d2da06f8d4a1"
      },
      "source": [
        "n = int(input())\n",
        "def f(n):\n",
        "  if n == 1:\n",
        "    return 1\n",
        "  return n * f(n-1)\n",
        "\n",
        "print(f(n))"
      ],
      "execution_count": null,
      "outputs": [
        {
          "output_type": "stream",
          "name": "stdout",
          "text": [
            "12\n",
            "479001600\n"
          ]
        }
      ]
    },
    {
      "cell_type": "code",
      "metadata": {
        "colab": {
          "base_uri": "https://localhost:8080/"
        },
        "id": "Tnxa23-3bYS5",
        "outputId": "7eacc9f9-23ab-4346-cd89-85eaf7a2bc2a"
      },
      "source": [
        "n = int(input())\n",
        "\n",
        "l = []\n",
        "for i in range(n):\n",
        "  l.append(i+1)\n",
        "\n",
        "x = 1\n",
        "for i in range(n):\n",
        "  x *= l[i]\n",
        "\n",
        "print(x)"
      ],
      "execution_count": null,
      "outputs": [
        {
          "output_type": "stream",
          "name": "stdout",
          "text": [
            "10\n",
            "3628800\n"
          ]
        }
      ]
    },
    {
      "cell_type": "code",
      "metadata": {
        "colab": {
          "base_uri": "https://localhost:8080/"
        },
        "id": "Or1d1nQJcPfg",
        "outputId": "f8a01b5f-1b32-422f-f8b0-d0296048dbd4"
      },
      "source": [
        "n = int(input())\n",
        "l = map(int, input().split())\n",
        "count = 0\n",
        "for i in l:\n",
        "  if i != 1:\n",
        "    c = 0\n",
        "    for j in range(1,i):\n",
        "      if i % j == 0:\n",
        "        c += 1\n",
        "    \n",
        "    if c == 1:\n",
        "      count += 1\n",
        "\n",
        "print(count)      "
      ],
      "execution_count": null,
      "outputs": [
        {
          "output_type": "stream",
          "name": "stdout",
          "text": [
            "5\n",
            "2 5 7 15 6\n",
            "3\n"
          ]
        }
      ]
    },
    {
      "cell_type": "markdown",
      "metadata": {
        "id": "NZwk_uqi6nVk"
      },
      "source": [
        "문제\n",
        "자연수 M과 N이 주어질 때 M이상 N이하의 자연수 중 소수인 것을 모두 골라 이들 소수의 합과 최솟값을 찾는 프로그램을 작성하시오.\n",
        "\n",
        "예를 들어 M=60, N=100인 경우 60이상 100이하의 자연수 중 소수는 61, 67, 71, 73, 79, 83, 89, 97 총 8개가 있으므로, 이들 소수의 합은 620이고, 최솟값은 61이 된다.\n",
        "\n",
        "입력\n",
        "입력의 첫째 줄에 M이, 둘째 줄에 N이 주어진다.\n",
        "\n",
        "M과 N은 10,000이하의 자연수이며, M은 N보다 작거나 같다.\n",
        "\n",
        "출력\n",
        "M이상 N이하의 자연수 중 소수인 것을 모두 찾아 첫째 줄에 그 합을, 둘째 줄에 그 중 최솟값을 출력한다. \n",
        "\n",
        "단, M이상 N이하의 자연수 중 소수가 없을 경우는 첫째 줄에 -1을 출력한다."
      ]
    },
    {
      "cell_type": "code",
      "metadata": {
        "colab": {
          "base_uri": "https://localhost:8080/"
        },
        "id": "vaCDMC3B08nE",
        "outputId": "db1d96d9-727a-4bab-c07d-0a1cf29160ae"
      },
      "source": [
        "def prime_list(n):\n",
        "    n += 1\n",
        "    sieve = [True] * n\n",
        "    m = int(n ** 0.5)\n",
        "    for i in range(2, m + 1):\n",
        "        if sieve[i] == True:\n",
        "            for j in range(i+i, n, i): \n",
        "                sieve[j] = False\n",
        "    return [i for i in range(2, n) if sieve[i] == True]\n",
        "\n",
        "m =int(input())\n",
        "n = int(input())\n",
        "\n",
        "l = prime_list(n)\n",
        "l = [i for i in l if i >= m]\n",
        "\n",
        "if len(l) == 0:\n",
        "  print(-1)\n",
        "else:\n",
        "  print(sum(l))\n",
        "  print(min(l))\n"
      ],
      "execution_count": null,
      "outputs": [
        {
          "output_type": "stream",
          "name": "stdout",
          "text": [
            "1\n",
            "5\n",
            "10\n",
            "2\n"
          ]
        }
      ]
    },
    {
      "cell_type": "markdown",
      "metadata": {
        "id": "HG2UBrYoSseR"
      },
      "source": [
        "입력\n",
        "첫째 줄에 N과 K가 빈칸을 사이에 두고 주어진다. N은 1 이상 10,000 이하이다. K는 1 이상 N 이하이다.\n",
        "\n",
        "출력\n",
        "첫째 줄에 N의 약수들 중 K번째로 작은 수를 출력한다. 만일 N의 약수의 개수가 K개보다 적어서 K번째 약수가 존재하지 않을 경우에는 0을 출력하시오."
      ]
    },
    {
      "cell_type": "code",
      "metadata": {
        "colab": {
          "base_uri": "https://localhost:8080/"
        },
        "id": "GFc4Xu0lKpzU",
        "outputId": "7671bf29-2764-4f5e-9b6d-022624c2c71d"
      },
      "source": [
        "n, k = map(int, input().split())\n",
        "\n",
        "l = []\n",
        "for i in range(1, n+1):\n",
        "  if n % i == 0:\n",
        "    l.append(i)\n",
        "\n",
        "if len(l) < k:\n",
        "  print(0)\n",
        "else:\n",
        "  print(l[k-1])\n",
        "\n"
      ],
      "execution_count": null,
      "outputs": [
        {
          "output_type": "stream",
          "name": "stdout",
          "text": [
            "2735 1\n",
            "[1, 5, 547, 2735]\n",
            "1\n"
          ]
        }
      ]
    },
    {
      "cell_type": "markdown",
      "metadata": {
        "id": "gfV-52gLZT7I"
      },
      "source": [
        "입력\n",
        "첫째 줄부터 아홉 번째 줄까지 한 줄에 하나의 자연수가 주어진다. 주어지는 자연수는 100 보다 작다.\n",
        "\n",
        "출력\n",
        "첫째 줄에 최댓값을 출력하고, 둘째 줄에 최댓값이 몇 번째 수인지를 출력한다."
      ]
    },
    {
      "cell_type": "code",
      "metadata": {
        "colab": {
          "base_uri": "https://localhost:8080/"
        },
        "id": "MH0zHUBw7g_K",
        "outputId": "bf5e58c3-c4ba-4904-976a-12fa1f89c59b"
      },
      "source": [
        "l = []\n",
        "for i in range(9):\n",
        "  l.append(int(input()))\n",
        "\n",
        "print(max(l))\n",
        "print(l.index(max(l)) + 1)\n",
        "\n"
      ],
      "execution_count": null,
      "outputs": [
        {
          "output_type": "stream",
          "name": "stdout",
          "text": [
            "3\n",
            "29\n",
            "38\n",
            "12\n",
            "57\n",
            "74\n",
            "40\n",
            "85\n",
            "61\n",
            "85\n",
            "8\n"
          ]
        }
      ]
    },
    {
      "cell_type": "code",
      "metadata": {
        "colab": {
          "base_uri": "https://localhost:8080/"
        },
        "id": "fT7SLPbuHCSu",
        "outputId": "4d67d366-1b58-41b1-b986-a786b480697a"
      },
      "source": [
        "x = [1,2,3,4]\n",
        "x.index(max(x))"
      ],
      "execution_count": null,
      "outputs": [
        {
          "output_type": "execute_result",
          "data": {
            "text/plain": [
              "3"
            ]
          },
          "metadata": {},
          "execution_count": 86
        }
      ]
    },
    {
      "cell_type": "code",
      "metadata": {
        "colab": {
          "base_uri": "https://localhost:8080/"
        },
        "id": "3JhCxfDCY0Af",
        "outputId": "67d67897-838a-4270-b760-e1d3b974f975"
      },
      "source": [
        "l = map(int, input().split())\n",
        "x=0\n",
        "for i in l:\n",
        "  x += i ** 2\n",
        "\n",
        "print(x % 10)"
      ],
      "execution_count": null,
      "outputs": [
        {
          "output_type": "stream",
          "name": "stdout",
          "text": [
            "0 4 2 5 6\n",
            "1\n"
          ]
        }
      ]
    },
    {
      "cell_type": "code",
      "metadata": {
        "colab": {
          "base_uri": "https://localhost:8080/"
        },
        "id": "dx1oYriIZ5Ru",
        "outputId": "dce79fc8-a8d1-43c3-9604-7f9d8ce9fbd5"
      },
      "source": [
        "n = int(input())\n",
        "\n",
        "l = [0, 1]\n",
        "for i in range(2, n+1):\n",
        "  l.append(l[i-2] + l[i-1])\n",
        "\n",
        "print(l[n])"
      ],
      "execution_count": null,
      "outputs": [
        {
          "output_type": "stream",
          "name": "stdout",
          "text": [
            "10\n",
            "55\n"
          ]
        }
      ]
    },
    {
      "cell_type": "code",
      "metadata": {
        "colab": {
          "base_uri": "https://localhost:8080/",
          "height": 133
        },
        "id": "lkcV76K1cIYH",
        "outputId": "ed9775ba-7cad-4e6a-dc1e-a2ec169114a6"
      },
      "source": [
        "l = []\n",
        "for i in range(7):\n",
        "  x = int(input())\n",
        "  if x % 2 == 1:\n",
        "    l.append(x)\n",
        "\n",
        "if l == []:\n",
        "  print(-1)\n",
        "else:    \n",
        "  l.sort()\n",
        "  print(sum(l))\n",
        "  print(l[0])"
      ],
      "execution_count": null,
      "outputs": [
        {
          "output_type": "error",
          "ename": "SyntaxError",
          "evalue": "ignored",
          "traceback": [
            "\u001b[0;36m  File \u001b[0;32m\"<ipython-input-100-9e5860f951a4>\"\u001b[0;36m, line \u001b[0;32m7\u001b[0m\n\u001b[0;31m    if l = []:\u001b[0m\n\u001b[0m         ^\u001b[0m\n\u001b[0;31mSyntaxError\u001b[0m\u001b[0;31m:\u001b[0m invalid syntax\n"
          ]
        }
      ]
    },
    {
      "cell_type": "code",
      "metadata": {
        "colab": {
          "base_uri": "https://localhost:8080/"
        },
        "id": "I2msTNAPd8jz",
        "outputId": "18d53d68-f2b2-4c3a-f8c7-4a88fd45a611"
      },
      "source": [
        "n = int(input())\n",
        "\n",
        "for i in range(n):\n",
        "  k = int(input())\n",
        "  l = map(int, input().split())\n",
        "  print(sum(l))\n",
        "\n"
      ],
      "execution_count": null,
      "outputs": [
        {
          "output_type": "stream",
          "name": "stdout",
          "text": [
            "2\n",
            "5\n",
            "1 1 1 1 1\n",
            "5\n",
            "7\n",
            "1 2 3 4 5 6 7\n",
            "28\n"
          ]
        }
      ]
    },
    {
      "cell_type": "code",
      "metadata": {
        "colab": {
          "base_uri": "https://localhost:8080/"
        },
        "id": "rX85K_K5d8FO",
        "outputId": "68c9374e-dfa6-473a-c999-0f1d0a509b64"
      },
      "source": [
        "for i in range(3):\n",
        "  l = list(map(int,input().split()))\n",
        "  if sum(l) == 3:\n",
        "    print('A')\n",
        "  elif sum(l) == 2:\n",
        "    print('B')\n",
        "  elif sum(l) == 1:\n",
        "    print('C')\n",
        "  elif sum(l) == 0:\n",
        "    print('D')\n",
        "  elif sum(l) == 4:\n",
        "    print('E')"
      ],
      "execution_count": null,
      "outputs": [
        {
          "output_type": "stream",
          "name": "stdout",
          "text": [
            "0 0 0 0\n",
            "[0, 0, 0, 0]\n",
            "D\n",
            "1 1 1 1\n",
            "[1, 1, 1, 1]\n",
            "E\n",
            "1 1 0 0\n",
            "[1, 1, 0, 0]\n",
            "B\n"
          ]
        }
      ]
    },
    {
      "cell_type": "code",
      "metadata": {
        "colab": {
          "base_uri": "https://localhost:8080/"
        },
        "id": "f6R-6SubdHrM",
        "outputId": "0e85eb1b-be2e-45ed-904b-c421c7c26941"
      },
      "source": [
        "n = int(input())\n",
        "l = list(map(int, input().split()))\n",
        "c = 0\n",
        "for i in l:\n",
        "  if n == i:\n",
        "    c += 1\n",
        "\n",
        "print(c)"
      ],
      "execution_count": null,
      "outputs": [
        {
          "output_type": "stream",
          "name": "stdout",
          "text": [
            "3\n",
            "1 2 3 5 3\n",
            "2\n"
          ]
        }
      ]
    },
    {
      "cell_type": "code",
      "metadata": {
        "colab": {
          "base_uri": "https://localhost:8080/"
        },
        "id": "yuh7KqPSmmow",
        "outputId": "976792de-86f2-4f5d-a703-54cac33a4506"
      },
      "source": [
        "n = int(input())\n",
        "\n",
        "l = list(map(int, input().split()))\n",
        "for i in range(n):\n",
        "  if i != 0:\n",
        "    if l[i] == 1:\n",
        "      l[i] = l[i-1] + 1\n",
        "\n",
        "print(sum(l))\n",
        "\n",
        "  "
      ],
      "execution_count": null,
      "outputs": [
        {
          "output_type": "stream",
          "name": "stdout",
          "text": [
            "10\n",
            "1 0 1 1 1 0 0 1 1 0\n",
            "10\n"
          ]
        }
      ]
    },
    {
      "cell_type": "code",
      "metadata": {
        "colab": {
          "base_uri": "https://localhost:8080/"
        },
        "id": "RKN4QWNPvz71",
        "outputId": "f1f08604-ea12-42a9-b8c8-e0e13c50ed47"
      },
      "source": [
        "n = int(input())\n",
        "l = list(map(int,input().split()))\n",
        "k = [0] * n\n",
        "for i in range(len(l)):\n",
        "  k[i] = (l[i] / max(l)) * 100\n",
        "\n",
        "x = 0\n",
        "for i in k:\n",
        "  x += i\n",
        "print(x / n)"
      ],
      "execution_count": null,
      "outputs": [
        {
          "output_type": "stream",
          "name": "stdout",
          "text": [
            "3\n",
            "10 20 30\n",
            "[10, 20, 30]\n",
            "[33.33333333333333, 66.66666666666666, 100.0]\n",
            "66.66666666666667\n"
          ]
        }
      ]
    },
    {
      "cell_type": "code",
      "metadata": {
        "colab": {
          "base_uri": "https://localhost:8080/"
        },
        "id": "5LuJFftSweSM",
        "outputId": "d183f756-ada8-48d6-a6e0-c45808e8846f"
      },
      "source": [
        "max(l)"
      ],
      "execution_count": null,
      "outputs": [
        {
          "output_type": "execute_result",
          "data": {
            "text/plain": [
              "60.00000000000001"
            ]
          },
          "metadata": {},
          "execution_count": 118
        }
      ]
    },
    {
      "cell_type": "code",
      "metadata": {
        "id": "sfNK5YZrzkFz"
      },
      "source": [
        "l = []\n",
        "for i in range(4):\n",
        "  out = int(input())\n",
        "  \n"
      ],
      "execution_count": null,
      "outputs": []
    },
    {
      "cell_type": "code",
      "metadata": {
        "colab": {
          "base_uri": "https://localhost:8080/"
        },
        "id": "yBGqN0FZJBzx",
        "outputId": "318de89b-ee8c-4cac-e36f-7b2139358089"
      },
      "source": [
        "l = []\n",
        "for i in range(4):\n",
        "  out, in_ = map(int, input().split())\n",
        "  if i == 0:\n",
        "    l.append(in_)\n",
        "  else:\n",
        "    l.append(l[i-1] - out + in_)\n",
        "\n",
        "print(max(l))\n",
        "    "
      ],
      "execution_count": null,
      "outputs": [
        {
          "output_type": "stream",
          "name": "stdout",
          "text": [
            "0 32\n",
            "3 13\n",
            "28 25\n",
            "39 0\n",
            "42\n"
          ]
        }
      ]
    },
    {
      "cell_type": "code",
      "metadata": {
        "id": "ft0AOx8HLCJT"
      },
      "source": [
        ""
      ],
      "execution_count": null,
      "outputs": []
    }
  ]
}